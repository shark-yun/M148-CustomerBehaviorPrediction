{
 "cells": [
  {
   "cell_type": "code",
   "execution_count": null,
   "metadata": {},
   "outputs": [],
   "source": [
    "import pandas as pd\n",
    "import os\n",
    "import time\n",
    "import pyarrow.parquet as pq\n",
    "import pyarrow.compute as pc\n",
    "import pyarrow as pa\n",
    "import random\n",
    "from util import sample_n_visitors, read_full_week\n",
    "import seaborn as sns\n",
    "import numpy as np\n",
    "import math"
   ]
  },
  {
   "cell_type": "code",
   "execution_count": null,
   "metadata": {},
   "outputs": [],
   "source": [
    "dataset_all = pq.ParquetDataset(\"data/hitdata7days\")"
   ]
  },
  {
   "cell_type": "code",
   "execution_count": 5,
   "metadata": {},
   "outputs": [],
   "source": [
    "columns = ['visitid','pageurl','pagename', 'pageeventvar2','pagetype', 'visitdatetime', 'hit_time_gmt', 'productlist', 'searchterms', 'searchresults', 'newvisit', 'post_evar27', 'evar28', 'evar83', 'ordernumber']\n",
    "data_all = dataset_all.read(columns=columns).combine_chunks()"
   ]
  },
  {
   "cell_type": "code",
   "execution_count": 4,
   "metadata": {},
   "outputs": [
    {
     "data": {
      "text/plain": [
       "(42730149, 16)"
      ]
     },
     "execution_count": 4,
     "metadata": {},
     "output_type": "execute_result"
    }
   ],
   "source": [
    "data_all.shape"
   ]
  },
  {
   "cell_type": "markdown",
   "metadata": {},
   "source": [
    "# Feature Engineering"
   ]
  },
  {
   "cell_type": "markdown",
   "metadata": {},
   "source": [
    "## Adding memory features"
   ]
  },
  {
   "cell_type": "markdown",
   "metadata": {},
   "source": [
    "### construct dictionary that maps product code "
   ]
  },
  {
   "cell_type": "markdown",
   "metadata": {},
   "source": [
    "### Track prices of products in the cart"
   ]
  },
  {
   "cell_type": "markdown",
   "metadata": {},
   "source": [
    "### Track prices of products viewed"
   ]
  },
  {
   "cell_type": "code",
   "execution_count": null,
   "metadata": {},
   "outputs": [],
   "source": [
    "cart_price_log = pd.read_pickle('cart_price_log.pkl')\n",
    "pg_price_log = pd.read_pickle('pg_price_log.pkl')"
   ]
  },
  {
   "cell_type": "markdown",
   "metadata": {},
   "source": [
    "## Assembling the rest of the features that will be in the training set"
   ]
  },
  {
   "cell_type": "markdown",
   "metadata": {},
   "source": [
    "### Simpify pagenames"
   ]
  },
  {
   "cell_type": "code",
   "execution_count": 6,
   "metadata": {},
   "outputs": [],
   "source": [
    "# simplyfied pagenames (before ':')\n",
    "pgname_df = data_all['pagename'].to_pandas()"
   ]
  },
  {
   "cell_type": "code",
   "execution_count": 7,
   "metadata": {},
   "outputs": [],
   "source": [
    "# check values before : in pagenames\n",
    "pg_cat = pgname_df.str.split(':').str[0]"
   ]
  },
  {
   "cell_type": "code",
   "execution_count": 8,
   "metadata": {},
   "outputs": [],
   "source": [
    "pg_cat_unique = pg_cat.unique()"
   ]
  },
  {
   "cell_type": "code",
   "execution_count": 9,
   "metadata": {},
   "outputs": [
    {
     "data": {
      "text/plain": [
       "49"
      ]
     },
     "execution_count": 9,
     "metadata": {},
     "output_type": "execute_result"
    }
   ],
   "source": [
    "len(pg_cat_unique)"
   ]
  },
  {
   "cell_type": "markdown",
   "metadata": {},
   "source": [
    "There are 49 unique pagename categories, now let's see the distribution of these categories"
   ]
  },
  {
   "cell_type": "code",
   "execution_count": 10,
   "metadata": {},
   "outputs": [
    {
     "data": {
      "text/plain": [
       "search                            2.417860e-01\n",
       "pdp                               1.898416e-01\n",
       "index                             1.778272e-01\n",
       "checkout                          8.274738e-02\n",
       "cart                              6.239199e-02\n",
       "Cart_Interstitial                 6.166171e-02\n",
       "mobile index                      5.798164e-02\n",
       "Clothing                          1.356047e-02\n",
       "Shoes                             1.155940e-02\n",
       "Jewelry & Watches                 1.075604e-02\n",
       "Electronics                       1.070949e-02\n",
       "mobile shopping                   1.029189e-02\n",
       "Toys                              9.280028e-03\n",
       "Home                              7.206902e-03\n",
       "Bed & Bath                        6.672057e-03\n",
       "Video Games                       5.711354e-03\n",
       "Furniture                         5.005459e-03\n",
       "Featured Shops                    4.955869e-03\n",
       "Kitchen                           4.605296e-03\n",
       "Personal Care                     4.595561e-03\n",
       "credit application                4.215735e-03\n",
       "Gifts, Crafts & Holidays          3.424561e-03\n",
       "Sports & Outdoors                 3.329921e-03\n",
       "Health & Beauty                   2.528215e-03\n",
       "Home Improvement                  2.018973e-03\n",
       "Baby                              1.593208e-03\n",
       "                                  1.360796e-03\n",
       "Movies, Music & Books             1.034328e-03\n",
       "Search Error                      5.033448e-04\n",
       "Automotive                        4.560480e-04\n",
       "Not Found Error                   1.075119e-04\n",
       "Clearance                         8.694096e-05\n",
       "Internal Server Error             5.466866e-05\n",
       "blog                              5.452824e-05\n",
       "Product Not Found                 5.179013e-05\n",
       "Landing Page                      2.146026e-05\n",
       "Crisis Hardship                   6.131502e-06\n",
       "preview content                   1.638188e-06\n",
       "Calzado                           9.127045e-07\n",
       "ÐžÐ±ÑƒÐ²ÑŒ                        8.424965e-07\n",
       "Zapatos                           6.084697e-07\n",
       "Home Page                         1.404161e-07\n",
       "joyas y relojes                   9.361072e-08\n",
       "BaÃ±o en la cama                  7.020804e-08\n",
       "Hogar                             7.020804e-08\n",
       "Muebles                           7.020804e-08\n",
       "Juguetes                          4.680536e-08\n",
       "main page                         2.340268e-08\n",
       "credit account payment receipt    2.340268e-08\n",
       "Name: pagename, dtype: float64"
      ]
     },
     "execution_count": 10,
     "metadata": {},
     "output_type": "execute_result"
    }
   ],
   "source": [
    "pg_cat.value_counts()/len(pg_cat)"
   ]
  },
  {
   "cell_type": "code",
   "execution_count": 11,
   "metadata": {},
   "outputs": [],
   "source": [
    "cat_ranking = pg_cat.value_counts()"
   ]
  },
  {
   "cell_type": "code",
   "execution_count": 12,
   "metadata": {},
   "outputs": [
    {
     "data": {
      "text/plain": [
       "0.979147299486365"
      ]
     },
     "execution_count": 12,
     "metadata": {},
     "output_type": "execute_result"
    }
   ],
   "source": [
    "sum(cat_ranking[:20])/len(pg_cat)"
   ]
  },
  {
   "cell_type": "code",
   "execution_count": 13,
   "metadata": {},
   "outputs": [
    {
     "data": {
      "text/plain": [
       "0.9101133955793134"
      ]
     },
     "execution_count": 13,
     "metadata": {},
     "output_type": "execute_result"
    }
   ],
   "source": [
    "sum(cat_ranking[:10])/len(pg_cat)"
   ]
  },
  {
   "cell_type": "markdown",
   "metadata": {},
   "source": [
    "Top 10 pagename categories contains 91% of all pageviews, we'll use this as an arbitrary cutoff in order to simplify our dataset. We'll only keep the top ten categories and leave the rest as \"other\""
   ]
  },
  {
   "cell_type": "code",
   "execution_count": 14,
   "metadata": {},
   "outputs": [],
   "source": [
    "pg_cat_top10 = cat_ranking.index[:10]"
   ]
  },
  {
   "cell_type": "code",
   "execution_count": 15,
   "metadata": {},
   "outputs": [],
   "source": [
    "pg_cat_simp = pg_cat.apply(lambda x: x if x in pg_cat_top10 else 'other')"
   ]
  },
  {
   "cell_type": "code",
   "execution_count": 16,
   "metadata": {},
   "outputs": [
    {
     "data": {
      "text/plain": [
       "search               10331552\n",
       "pdp                   8111960\n",
       "index                 7598581\n",
       "other                 3840868\n",
       "checkout              3535808\n",
       "cart                  2666019\n",
       "Cart_Interstitial     2634814\n",
       "mobile index          2477564\n",
       "Clothing               579441\n",
       "Shoes                  493935\n",
       "Jewelry & Watches      459607\n",
       "Name: pagename, dtype: int64"
      ]
     },
     "execution_count": 16,
     "metadata": {},
     "output_type": "execute_result"
    }
   ],
   "source": [
    "# sanity check \n",
    "pg_cat_simp.value_counts()"
   ]
  },
  {
   "cell_type": "markdown",
   "metadata": {},
   "source": [
    "### Channel"
   ]
  },
  {
   "cell_type": "code",
   "execution_count": 17,
   "metadata": {},
   "outputs": [],
   "source": [
    "channel_df = data_all['post_evar27'].to_pandas()"
   ]
  },
  {
   "cell_type": "code",
   "execution_count": 18,
   "metadata": {},
   "outputs": [],
   "source": [
    "channel_ct = channel_df.value_counts()"
   ]
  },
  {
   "cell_type": "code",
   "execution_count": 19,
   "metadata": {},
   "outputs": [
    {
     "data": {
      "text/plain": [
       "0.3640624796323551"
      ]
     },
     "execution_count": 19,
     "metadata": {},
     "output_type": "execute_result"
    }
   ],
   "source": [
    "channel_df.isna().mean()"
   ]
  },
  {
   "cell_type": "markdown",
   "metadata": {},
   "source": [
    "Too many missing values, we'll not use this variable"
   ]
  },
  {
   "cell_type": "markdown",
   "metadata": {},
   "source": [
    "### New visit"
   ]
  },
  {
   "cell_type": "code",
   "execution_count": 20,
   "metadata": {},
   "outputs": [],
   "source": [
    "nv_df = data_all['newvisit'].to_pandas()"
   ]
  },
  {
   "cell_type": "code",
   "execution_count": 21,
   "metadata": {},
   "outputs": [
    {
     "data": {
      "text/plain": [
       "0.0"
      ]
     },
     "execution_count": 21,
     "metadata": {},
     "output_type": "execute_result"
    }
   ],
   "source": [
    "nv_df.isna().mean()"
   ]
  },
  {
   "cell_type": "code",
   "execution_count": 22,
   "metadata": {},
   "outputs": [],
   "source": [
    "nv_counts = nv_df.value_counts()"
   ]
  },
  {
   "cell_type": "code",
   "execution_count": 23,
   "metadata": {},
   "outputs": [
    {
     "data": {
      "text/plain": [
       "0    41112195\n",
       "1     1617954\n",
       "Name: newvisit, dtype: int64"
      ]
     },
     "execution_count": 23,
     "metadata": {},
     "output_type": "execute_result"
    }
   ],
   "source": [
    "nv_counts"
   ]
  },
  {
   "cell_type": "markdown",
   "metadata": {},
   "source": [
    "### Assemble the dataset"
   ]
  },
  {
   "cell_type": "code",
   "execution_count": 24,
   "metadata": {},
   "outputs": [],
   "source": [
    "# visitid, pg_cat_simp, hittime, newvisit, cart_price_log, pg_price_log, ordernumber\n",
    "data_2 = data_all.select(['visitid', 'hit_time_gmt', 'newvisit', 'ordernumber'])"
   ]
  },
  {
   "cell_type": "code",
   "execution_count": 25,
   "metadata": {},
   "outputs": [],
   "source": [
    "data_2_df = data_2.to_pandas()"
   ]
  },
  {
   "cell_type": "code",
   "execution_count": 26,
   "metadata": {},
   "outputs": [],
   "source": [
    "assert data_2_df.shape[0] == len(pg_cat_simp) == len(cart_price_log) == len(pg_price_log)"
   ]
  },
  {
   "cell_type": "code",
   "execution_count": 27,
   "metadata": {},
   "outputs": [],
   "source": [
    "data_2_df['pg_cat'] = pg_cat_simp\n",
    "data_2_df['cart_price_log'] = cart_price_log\n",
    "data_2_df['pg_price_log'] = pg_price_log"
   ]
  },
  {
   "cell_type": "code",
   "execution_count": 29,
   "metadata": {},
   "outputs": [],
   "source": [
    "data_2_df['hit_time_gmt'] = data_2_df['hit_time_gmt'].astype('int')"
   ]
  },
  {
   "cell_type": "code",
   "execution_count": 30,
   "metadata": {},
   "outputs": [],
   "source": [
    "data_2_df['newvisit'] = data_2_df['newvisit'].astype('int')"
   ]
  },
  {
   "cell_type": "code",
   "execution_count": 32,
   "metadata": {},
   "outputs": [],
   "source": [
    "# sort the dataset for ease of use\n",
    "data_2_df_sorted = data_2_df.sort_values(['visitid', 'hit_time_gmt'], ascending=True)"
   ]
  },
  {
   "cell_type": "markdown",
   "metadata": {},
   "source": [
    "### Add more features"
   ]
  },
  {
   "cell_type": "markdown",
   "metadata": {},
   "source": [
    "#### Create labels for each row based on order number"
   ]
  },
  {
   "cell_type": "code",
   "execution_count": 34,
   "metadata": {},
   "outputs": [],
   "source": [
    "has_order = ~data_2_df_sorted.groupby('visitid')['ordernumber'].apply(lambda x: all(x.isna()))"
   ]
  },
  {
   "cell_type": "code",
   "execution_count": 35,
   "metadata": {},
   "outputs": [],
   "source": [
    "data_2_df_full_label = data_2_df_sorted.merge(has_order, on = 'visitid', suffixes = ('_original', '_full'))"
   ]
  },
  {
   "cell_type": "code",
   "execution_count": 37,
   "metadata": {},
   "outputs": [],
   "source": [
    "# timedelta\n",
    "timedelta = data_2_df_full_label.groupby('visitid')['hit_time_gmt'].diff()"
   ]
  },
  {
   "cell_type": "code",
   "execution_count": 39,
   "metadata": {},
   "outputs": [],
   "source": [
    "# replace all timedelta = na with 0\n",
    "td_na_idx = timedelta.isna()"
   ]
  },
  {
   "cell_type": "code",
   "execution_count": 40,
   "metadata": {},
   "outputs": [],
   "source": [
    "timedelta[td_na_idx] = 0"
   ]
  },
  {
   "cell_type": "code",
   "execution_count": 41,
   "metadata": {},
   "outputs": [],
   "source": [
    "data_2_df_full_label['timedelta'] = timedelta"
   ]
  },
  {
   "cell_type": "code",
   "execution_count": 42,
   "metadata": {},
   "outputs": [],
   "source": [
    "# session time\n",
    "session_time = data_2_df_full_label.groupby('visitid')['timedelta'].cumsum()"
   ]
  },
  {
   "cell_type": "code",
   "execution_count": 43,
   "metadata": {},
   "outputs": [],
   "source": [
    "data_2_df_full_label['session_time'] = session_time"
   ]
  },
  {
   "cell_type": "code",
   "execution_count": 44,
   "metadata": {},
   "outputs": [],
   "source": [
    "# pageview number"
   ]
  },
  {
   "cell_type": "code",
   "execution_count": 45,
   "metadata": {},
   "outputs": [],
   "source": [
    "pg_count = data_2_df_full_label.groupby('visitid').cumcount()"
   ]
  },
  {
   "cell_type": "code",
   "execution_count": 46,
   "metadata": {},
   "outputs": [],
   "source": [
    "data_2_df_full_label['pg_count'] = pg_count"
   ]
  },
  {
   "cell_type": "markdown",
   "metadata": {},
   "source": [
    "#### cart price summary stats"
   ]
  },
  {
   "cell_type": "code",
   "execution_count": 47,
   "metadata": {},
   "outputs": [],
   "source": [
    "# sum\n",
    "sum_cart = data_2_df_full_label.groupby('visitid')['cart_price_log'].cumsum()"
   ]
  },
  {
   "cell_type": "code",
   "execution_count": 48,
   "metadata": {},
   "outputs": [],
   "source": [
    "data_2_df_full_label['sum_cart'] = sum_cart"
   ]
  },
  {
   "cell_type": "code",
   "execution_count": 49,
   "metadata": {},
   "outputs": [],
   "source": [
    "# avg"
   ]
  },
  {
   "cell_type": "code",
   "execution_count": 50,
   "metadata": {},
   "outputs": [],
   "source": [
    "if_add_prod = pd.Series([0]*len(cart_price_log))"
   ]
  },
  {
   "cell_type": "code",
   "execution_count": 51,
   "metadata": {},
   "outputs": [],
   "source": [
    "if_add_prod[data_2_df_full_label['cart_price_log'] > 0] = 1"
   ]
  },
  {
   "cell_type": "code",
   "execution_count": 52,
   "metadata": {},
   "outputs": [],
   "source": [
    "if_add_prod[data_2_df_full_label['cart_price_log'] < 0] = -1"
   ]
  },
  {
   "cell_type": "code",
   "execution_count": 53,
   "metadata": {},
   "outputs": [],
   "source": [
    "data_2_df_full_label['if_add_prod'] = if_add_prod"
   ]
  },
  {
   "cell_type": "code",
   "execution_count": 54,
   "metadata": {},
   "outputs": [],
   "source": [
    "prod_in_cart = data_2_df_full_label.groupby('visitid')['if_add_prod'].cumsum()"
   ]
  },
  {
   "cell_type": "code",
   "execution_count": 55,
   "metadata": {},
   "outputs": [],
   "source": [
    "data_2_df_full_label['prod_in_cart'] = prod_in_cart"
   ]
  },
  {
   "cell_type": "code",
   "execution_count": 56,
   "metadata": {},
   "outputs": [],
   "source": [
    "is_prod_in_cart = prod_in_cart != 0"
   ]
  },
  {
   "cell_type": "code",
   "execution_count": 57,
   "metadata": {},
   "outputs": [],
   "source": [
    "avg_cart = pd.Series([0]*data_2_df_full_label.shape[0])"
   ]
  },
  {
   "cell_type": "code",
   "execution_count": 58,
   "metadata": {},
   "outputs": [],
   "source": [
    "d1 = data_2_df_full_label[is_prod_in_cart]"
   ]
  },
  {
   "cell_type": "code",
   "execution_count": 60,
   "metadata": {},
   "outputs": [],
   "source": [
    "avg_cart_none0 = d1['sum_cart'] / d1['prod_in_cart']"
   ]
  },
  {
   "cell_type": "code",
   "execution_count": 75,
   "metadata": {},
   "outputs": [],
   "source": [
    "avg_cart[avg_cart_none0.index] = avg_cart_none0"
   ]
  },
  {
   "cell_type": "code",
   "execution_count": 76,
   "metadata": {},
   "outputs": [],
   "source": [
    "data_2_df_full_label['avg_cart'] = avg_cart"
   ]
  },
  {
   "cell_type": "markdown",
   "metadata": {},
   "source": [
    "Maybe avg_cart shoulnd't be used since it gives a positive value even when products are only removed from cart"
   ]
  },
  {
   "cell_type": "code",
   "execution_count": 84,
   "metadata": {},
   "outputs": [],
   "source": [
    "# min_cart\n",
    "min_cart = data_2_df_full_label.groupby('visitid')['cart_price_log'].cummin()\n",
    "data_2_df_full_label['min_cart'] = min_cart"
   ]
  },
  {
   "cell_type": "code",
   "execution_count": 86,
   "metadata": {},
   "outputs": [],
   "source": [
    "# max_cart\n",
    "max_cart = data_2_df_full_label.groupby('visitid')['cart_price_log'].cummax()\n",
    "data_2_df_full_label['max_cart'] = max_cart"
   ]
  },
  {
   "cell_type": "markdown",
   "metadata": {},
   "source": [
    "#### Viewed price summary stats"
   ]
  },
  {
   "cell_type": "code",
   "execution_count": 92,
   "metadata": {},
   "outputs": [],
   "source": [
    "# sum_prod\n",
    "sum_prod = data_2_df_full_label.groupby('visitid')['pg_price_log'].cumsum()"
   ]
  },
  {
   "cell_type": "code",
   "execution_count": 93,
   "metadata": {},
   "outputs": [],
   "source": [
    "data_2_df_full_label['sum_prod'] = sum_prod"
   ]
  },
  {
   "cell_type": "code",
   "execution_count": 97,
   "metadata": {},
   "outputs": [],
   "source": [
    "# avg_prod\n",
    "if_view_prod = pd.Series([0]*len(pg_price_log))"
   ]
  },
  {
   "cell_type": "code",
   "execution_count": 98,
   "metadata": {},
   "outputs": [],
   "source": [
    "if_view_prod[data_2_df_full_label['pg_price_log'] > 0] = 1"
   ]
  },
  {
   "cell_type": "code",
   "execution_count": 99,
   "metadata": {},
   "outputs": [],
   "source": [
    "data_2_df_full_label['if_view_prod'] = if_view_prod"
   ]
  },
  {
   "cell_type": "code",
   "execution_count": 100,
   "metadata": {},
   "outputs": [],
   "source": [
    "prod_viewed = data_2_df_full_label.groupby('visitid')['if_view_prod'].cumsum()\n",
    "data_2_df_full_label['prod_viewed'] = prod_viewed"
   ]
  },
  {
   "cell_type": "code",
   "execution_count": 104,
   "metadata": {},
   "outputs": [],
   "source": [
    "is_prod_viewed = prod_viewed != 0"
   ]
  },
  {
   "cell_type": "code",
   "execution_count": 108,
   "metadata": {},
   "outputs": [],
   "source": [
    "avg_prod = pd.Series([0]*data_2_df_full_label.shape[0])"
   ]
  },
  {
   "cell_type": "code",
   "execution_count": 105,
   "metadata": {},
   "outputs": [],
   "source": [
    "d2 = data_2_df_full_label[is_prod_viewed]"
   ]
  },
  {
   "cell_type": "code",
   "execution_count": 106,
   "metadata": {},
   "outputs": [],
   "source": [
    "avg_prod_none0 = d2['sum_prod'] / d2['prod_viewed']"
   ]
  },
  {
   "cell_type": "code",
   "execution_count": 109,
   "metadata": {},
   "outputs": [],
   "source": [
    "avg_prod[avg_prod_none0.index] = avg_prod_none0"
   ]
  },
  {
   "cell_type": "code",
   "execution_count": 110,
   "metadata": {},
   "outputs": [],
   "source": [
    "data_2_df_full_label['avg_prod'] = avg_prod"
   ]
  },
  {
   "cell_type": "code",
   "execution_count": 116,
   "metadata": {},
   "outputs": [],
   "source": [
    "# min_prod\n",
    "min_prod = data_2_df_full_label.groupby('visitid')['pg_price_log'].cummin()\n",
    "data_2_df_full_label['min_prod'] = min_prod"
   ]
  },
  {
   "cell_type": "code",
   "execution_count": 117,
   "metadata": {},
   "outputs": [],
   "source": [
    "# max_prod\n",
    "max_prod = data_2_df_full_label.groupby('visitid')['pg_price_log'].cummax()\n",
    "data_2_df_full_label['max_prod'] = max_prod"
   ]
  },
  {
   "cell_type": "code",
   "execution_count": null,
   "metadata": {},
   "outputs": [],
   "source": []
  },
  {
   "cell_type": "markdown",
   "metadata": {},
   "source": [
    "## Now we have the dataset that's ready for training"
   ]
  },
  {
   "cell_type": "code",
   "execution_count": 122,
   "metadata": {},
   "outputs": [],
   "source": [
    "features = ['visitid', 'newvisit', 'pg_cat', 'timedelta', 'session_time', 'pg_count', 'sum_cart', 'prod_in_cart', 'avg_cart', 'min_cart', 'max_cart', 'sum_prod', 'prod_viewed', 'avg_prod', 'min_prod', 'max_prod', 'ordernumber_full']\n",
    "dataset_final = data_2_df_full_label[features]"
   ]
  },
  {
   "cell_type": "code",
   "execution_count": null,
   "metadata": {},
   "outputs": [],
   "source": [
    "dataset_final"
   ]
  },
  {
   "cell_type": "code",
   "execution_count": null,
   "metadata": {},
   "outputs": [],
   "source": []
  },
  {
   "cell_type": "code",
   "execution_count": null,
   "metadata": {},
   "outputs": [],
   "source": []
  },
  {
   "cell_type": "code",
   "execution_count": null,
   "metadata": {},
   "outputs": [],
   "source": []
  },
  {
   "cell_type": "code",
   "execution_count": null,
   "metadata": {},
   "outputs": [],
   "source": []
  },
  {
   "cell_type": "code",
   "execution_count": null,
   "metadata": {},
   "outputs": [],
   "source": []
  },
  {
   "cell_type": "code",
   "execution_count": null,
   "metadata": {},
   "outputs": [],
   "source": []
  },
  {
   "cell_type": "code",
   "execution_count": null,
   "metadata": {},
   "outputs": [],
   "source": []
  },
  {
   "cell_type": "code",
   "execution_count": null,
   "metadata": {},
   "outputs": [],
   "source": []
  },
  {
   "cell_type": "code",
   "execution_count": null,
   "metadata": {},
   "outputs": [],
   "source": []
  },
  {
   "cell_type": "code",
   "execution_count": null,
   "metadata": {},
   "outputs": [],
   "source": []
  },
  {
   "cell_type": "code",
   "execution_count": null,
   "metadata": {},
   "outputs": [],
   "source": []
  }
 ],
 "metadata": {
  "kernelspec": {
   "display_name": "Python 3",
   "language": "python",
   "name": "python3"
  },
  "language_info": {
   "codemirror_mode": {
    "name": "ipython",
    "version": 3
   },
   "file_extension": ".py",
   "mimetype": "text/x-python",
   "name": "python",
   "nbconvert_exporter": "python",
   "pygments_lexer": "ipython3",
   "version": "3.7.4"
  }
 },
 "nbformat": 4,
 "nbformat_minor": 2
}
