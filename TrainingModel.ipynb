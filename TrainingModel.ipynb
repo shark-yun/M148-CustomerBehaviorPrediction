{
 "cells": [
  {
   "cell_type": "code",
   "execution_count": 1,
   "id": "8dab1e0e",
   "metadata": {},
   "outputs": [],
   "source": [
    "import pyarrow.parquet as pq\n",
    "import pandas as pd\n",
    "import numpy as np\n",
    "import matplotlib.pyplot as plt\n",
    "import tarfile\n",
    "import seaborn as sns\n",
    "import pyarrow\n",
    "\n",
    "\n",
    "from sklearn.model_selection import train_test_split\n",
    "from sklearn import metrics"
   ]
  },
  {
   "cell_type": "code",
   "execution_count": 2,
   "id": "113ed3de",
   "metadata": {},
   "outputs": [],
   "source": [
    "def sample_n_visitors (full, n):\n",
    "    uniqueid = full[\"visitid\"].unique().to_pandas()\n",
    "    sample_nid = pa.array(uniqueid.sample(n))\n",
    "    id_filter_idx = pc.is_in(full[\"visitid\"], sample_nid)\n",
    "    full_filtered = full.filter(id_filter_idx)\n",
    "    return full_filtered\n",
    "\n",
    "def read_full_week (cols, direc):\n",
    "    week_dic = {}\n",
    "    fileidx = np.arange(10, 17)\n",
    "    for i in range(len(fileidx)):\n",
    "        print('read: ' + direc + 'visitday=' + str(fileidx[i]))\n",
    "        dataset = pq.ParquetDataset('Math-M148-data-january2023/hitdata7days/visitday=' + str(fileidx[i]))\n",
    "        week_dic['visitday=' + str(fileidx[i])] = dataset.read(columns = cols)\n",
    "    \n",
    "    full_week = pd.DataFrame([],\n",
    "                   columns=cols)\n",
    "    for i in week_dic:\n",
    "        full_week=pd.concat([full_week,week_dic[i].to_pandas()])\n",
    "\n",
    "    return full_week\n",
    "\n",
    "def add_newfeature(full_week,col):\n",
    "    visit_week = read_full_week(col, 'week/')\n",
    "    new_feature = pd.DataFrame([],\n",
    "                   columns=col)\n",
    "    \n",
    "    for i in visit_week:\n",
    "        new_feature=pd.concat([new_feature,visit_week[i].to_pandas()])\n",
    "    full_week[col] = new_feature\n",
    "    \n",
    "    return full_week"
   ]
  },
  {
   "cell_type": "code",
   "execution_count": 178,
   "id": "ec303d20",
   "metadata": {},
   "outputs": [
    {
     "name": "stdout",
     "output_type": "stream",
     "text": [
      "read: week/visitday=10\n",
      "read: week/visitday=11\n",
      "read: week/visitday=12\n",
      "read: week/visitday=13\n",
      "read: week/visitday=14\n",
      "read: week/visitday=15\n",
      "read: week/visitday=16\n"
     ]
    }
   ],
   "source": [
    "col = ['visitid','devicetype','promocode','evar83','eVar82','ordernumber']\n",
    "visit_week = read_full_week(col, 'week/')"
   ]
  },
  {
   "cell_type": "code",
   "execution_count": 179,
   "id": "efb84681",
   "metadata": {},
   "outputs": [],
   "source": [
    "a= visit_week.groupby(['visitid']).first()"
   ]
  },
  {
   "cell_type": "code",
   "execution_count": 46,
   "id": "51170795",
   "metadata": {},
   "outputs": [
    {
     "name": "stdout",
     "output_type": "stream",
     "text": [
      "CPU times: user 1 µs, sys: 0 ns, total: 1 µs\n",
      "Wall time: 12.2 µs\n",
      "CPU times: user 1 µs, sys: 1 µs, total: 2 µs\n",
      "Wall time: 3.1 µs\n"
     ]
    }
   ],
   "source": [
    "%time\n",
    "def bin_behavior(x):\n",
    "    if not x:\n",
    "        return 'Unknown'\n",
    "    else:\n",
    "        if int(x)>495:\n",
    "            return '495-562'\n",
    "        elif int(x)>428:\n",
    "            return '428-495'\n",
    "        elif int(x)>361:\n",
    "            return '361-428'\n",
    "        else:\n",
    "            return '294-361'\n",
    "        \n",
    "    \n",
    "a[\"behavior_score\"] = a[\"evar83\"].apply(bin_behavior)\n",
    "%time"
   ]
  },
  {
   "cell_type": "code",
   "execution_count": 180,
   "id": "286d5e69",
   "metadata": {},
   "outputs": [],
   "source": [
    "a['promocode'] = ~a['promocode'].isna()\n",
    "\n",
    "a['eVar82'] = ~a['eVar82'].isna()\n",
    "a['order'] = ~a['ordernumber'].isna()"
   ]
  },
  {
   "cell_type": "code",
   "execution_count": 181,
   "id": "28d21182",
   "metadata": {},
   "outputs": [],
   "source": [
    "test = a[['promocode','eVar82','order']]"
   ]
  },
  {
   "cell_type": "code",
   "execution_count": 182,
   "id": "327d85ff",
   "metadata": {},
   "outputs": [
    {
     "data": {
      "text/html": [
       "<div>\n",
       "<style scoped>\n",
       "    .dataframe tbody tr th:only-of-type {\n",
       "        vertical-align: middle;\n",
       "    }\n",
       "\n",
       "    .dataframe tbody tr th {\n",
       "        vertical-align: top;\n",
       "    }\n",
       "\n",
       "    .dataframe thead th {\n",
       "        text-align: right;\n",
       "    }\n",
       "</style>\n",
       "<table border=\"1\" class=\"dataframe\">\n",
       "  <thead>\n",
       "    <tr style=\"text-align: right;\">\n",
       "      <th></th>\n",
       "      <th>visitid</th>\n",
       "      <th>promocode</th>\n",
       "      <th>eVar82</th>\n",
       "      <th>order</th>\n",
       "    </tr>\n",
       "  </thead>\n",
       "  <tbody>\n",
       "    <tr>\n",
       "      <th>0</th>\n",
       "      <td>001</td>\n",
       "      <td>False</td>\n",
       "      <td>False</td>\n",
       "      <td>False</td>\n",
       "    </tr>\n",
       "    <tr>\n",
       "      <th>1</th>\n",
       "      <td>0010</td>\n",
       "      <td>False</td>\n",
       "      <td>False</td>\n",
       "      <td>False</td>\n",
       "    </tr>\n",
       "    <tr>\n",
       "      <th>2</th>\n",
       "      <td>00100</td>\n",
       "      <td>False</td>\n",
       "      <td>False</td>\n",
       "      <td>False</td>\n",
       "    </tr>\n",
       "    <tr>\n",
       "      <th>3</th>\n",
       "      <td>00101</td>\n",
       "      <td>False</td>\n",
       "      <td>False</td>\n",
       "      <td>False</td>\n",
       "    </tr>\n",
       "    <tr>\n",
       "      <th>4</th>\n",
       "      <td>00102</td>\n",
       "      <td>False</td>\n",
       "      <td>False</td>\n",
       "      <td>False</td>\n",
       "    </tr>\n",
       "    <tr>\n",
       "      <th>...</th>\n",
       "      <td>...</td>\n",
       "      <td>...</td>\n",
       "      <td>...</td>\n",
       "      <td>...</td>\n",
       "    </tr>\n",
       "    <tr>\n",
       "      <th>2041281</th>\n",
       "      <td>99997363407775132790292379433452812751</td>\n",
       "      <td>False</td>\n",
       "      <td>False</td>\n",
       "      <td>False</td>\n",
       "    </tr>\n",
       "    <tr>\n",
       "      <th>2041282</th>\n",
       "      <td>99998319783911559758692653866775905231</td>\n",
       "      <td>False</td>\n",
       "      <td>False</td>\n",
       "      <td>False</td>\n",
       "    </tr>\n",
       "    <tr>\n",
       "      <th>2041283</th>\n",
       "      <td>99999087067885636914464571239461031391</td>\n",
       "      <td>False</td>\n",
       "      <td>False</td>\n",
       "      <td>False</td>\n",
       "    </tr>\n",
       "    <tr>\n",
       "      <th>2041284</th>\n",
       "      <td>99999155003421544234572785263257688231</td>\n",
       "      <td>False</td>\n",
       "      <td>False</td>\n",
       "      <td>False</td>\n",
       "    </tr>\n",
       "    <tr>\n",
       "      <th>2041285</th>\n",
       "      <td>99999763532480511365117907654043064165</td>\n",
       "      <td>False</td>\n",
       "      <td>False</td>\n",
       "      <td>False</td>\n",
       "    </tr>\n",
       "  </tbody>\n",
       "</table>\n",
       "<p>2041286 rows × 4 columns</p>\n",
       "</div>"
      ],
      "text/plain": [
       "                                        visitid  promocode  eVar82  order\n",
       "0                                           001      False   False  False\n",
       "1                                          0010      False   False  False\n",
       "2                                         00100      False   False  False\n",
       "3                                         00101      False   False  False\n",
       "4                                         00102      False   False  False\n",
       "...                                         ...        ...     ...    ...\n",
       "2041281  99997363407775132790292379433452812751      False   False  False\n",
       "2041282  99998319783911559758692653866775905231      False   False  False\n",
       "2041283  99999087067885636914464571239461031391      False   False  False\n",
       "2041284  99999155003421544234572785263257688231      False   False  False\n",
       "2041285  99999763532480511365117907654043064165      False   False  False\n",
       "\n",
       "[2041286 rows x 4 columns]"
      ]
     },
     "execution_count": 182,
     "metadata": {},
     "output_type": "execute_result"
    }
   ],
   "source": [
    "test.reset_index()"
   ]
  },
  {
   "cell_type": "code",
   "execution_count": 187,
   "id": "609e6a1b",
   "metadata": {},
   "outputs": [
    {
     "data": {
      "text/html": [
       "<div>\n",
       "<style scoped>\n",
       "    .dataframe tbody tr th:only-of-type {\n",
       "        vertical-align: middle;\n",
       "    }\n",
       "\n",
       "    .dataframe tbody tr th {\n",
       "        vertical-align: top;\n",
       "    }\n",
       "\n",
       "    .dataframe thead th {\n",
       "        text-align: right;\n",
       "    }\n",
       "</style>\n",
       "<table border=\"1\" class=\"dataframe\">\n",
       "  <thead>\n",
       "    <tr style=\"text-align: right;\">\n",
       "      <th></th>\n",
       "      <th>devicetype</th>\n",
       "      <th>promocode</th>\n",
       "      <th>evar83</th>\n",
       "      <th>eVar82</th>\n",
       "      <th>ordernumber</th>\n",
       "      <th>order</th>\n",
       "    </tr>\n",
       "    <tr>\n",
       "      <th>visitid</th>\n",
       "      <th></th>\n",
       "      <th></th>\n",
       "      <th></th>\n",
       "      <th></th>\n",
       "      <th></th>\n",
       "      <th></th>\n",
       "    </tr>\n",
       "  </thead>\n",
       "  <tbody>\n",
       "    <tr>\n",
       "      <th>001</th>\n",
       "      <td>Tablet</td>\n",
       "      <td>False</td>\n",
       "      <td></td>\n",
       "      <td>False</td>\n",
       "      <td>None</td>\n",
       "      <td>False</td>\n",
       "    </tr>\n",
       "    <tr>\n",
       "      <th>0010</th>\n",
       "      <td>Mobile</td>\n",
       "      <td>False</td>\n",
       "      <td></td>\n",
       "      <td>False</td>\n",
       "      <td>None</td>\n",
       "      <td>False</td>\n",
       "    </tr>\n",
       "    <tr>\n",
       "      <th>00100</th>\n",
       "      <td>Desktop</td>\n",
       "      <td>False</td>\n",
       "      <td></td>\n",
       "      <td>False</td>\n",
       "      <td>None</td>\n",
       "      <td>False</td>\n",
       "    </tr>\n",
       "    <tr>\n",
       "      <th>00101</th>\n",
       "      <td>Mobile</td>\n",
       "      <td>False</td>\n",
       "      <td></td>\n",
       "      <td>False</td>\n",
       "      <td>None</td>\n",
       "      <td>False</td>\n",
       "    </tr>\n",
       "    <tr>\n",
       "      <th>00102</th>\n",
       "      <td>Mobile</td>\n",
       "      <td>False</td>\n",
       "      <td></td>\n",
       "      <td>False</td>\n",
       "      <td>None</td>\n",
       "      <td>False</td>\n",
       "    </tr>\n",
       "    <tr>\n",
       "      <th>...</th>\n",
       "      <td>...</td>\n",
       "      <td>...</td>\n",
       "      <td>...</td>\n",
       "      <td>...</td>\n",
       "      <td>...</td>\n",
       "      <td>...</td>\n",
       "    </tr>\n",
       "    <tr>\n",
       "      <th>99997363407775132790292379433452812751</th>\n",
       "      <td>Desktop</td>\n",
       "      <td>False</td>\n",
       "      <td>None</td>\n",
       "      <td>False</td>\n",
       "      <td>None</td>\n",
       "      <td>False</td>\n",
       "    </tr>\n",
       "    <tr>\n",
       "      <th>99998319783911559758692653866775905231</th>\n",
       "      <td>Tablet</td>\n",
       "      <td>False</td>\n",
       "      <td>None</td>\n",
       "      <td>False</td>\n",
       "      <td>None</td>\n",
       "      <td>False</td>\n",
       "    </tr>\n",
       "    <tr>\n",
       "      <th>99999087067885636914464571239461031391</th>\n",
       "      <td>Tablet</td>\n",
       "      <td>False</td>\n",
       "      <td>None</td>\n",
       "      <td>False</td>\n",
       "      <td>None</td>\n",
       "      <td>False</td>\n",
       "    </tr>\n",
       "    <tr>\n",
       "      <th>99999155003421544234572785263257688231</th>\n",
       "      <td>Mobile</td>\n",
       "      <td>False</td>\n",
       "      <td>None</td>\n",
       "      <td>False</td>\n",
       "      <td>None</td>\n",
       "      <td>False</td>\n",
       "    </tr>\n",
       "    <tr>\n",
       "      <th>99999763532480511365117907654043064165</th>\n",
       "      <td>Tablet</td>\n",
       "      <td>False</td>\n",
       "      <td>None</td>\n",
       "      <td>False</td>\n",
       "      <td>None</td>\n",
       "      <td>False</td>\n",
       "    </tr>\n",
       "  </tbody>\n",
       "</table>\n",
       "<p>2041286 rows × 6 columns</p>\n",
       "</div>"
      ],
      "text/plain": [
       "                                       devicetype  promocode evar83  eVar82  \\\n",
       "visitid                                                                       \n",
       "001                                        Tablet      False          False   \n",
       "0010                                       Mobile      False          False   \n",
       "00100                                     Desktop      False          False   \n",
       "00101                                      Mobile      False          False   \n",
       "00102                                      Mobile      False          False   \n",
       "...                                           ...        ...    ...     ...   \n",
       "99997363407775132790292379433452812751    Desktop      False   None   False   \n",
       "99998319783911559758692653866775905231     Tablet      False   None   False   \n",
       "99999087067885636914464571239461031391     Tablet      False   None   False   \n",
       "99999155003421544234572785263257688231     Mobile      False   None   False   \n",
       "99999763532480511365117907654043064165     Tablet      False   None   False   \n",
       "\n",
       "                                       ordernumber  order  \n",
       "visitid                                                    \n",
       "001                                           None  False  \n",
       "0010                                          None  False  \n",
       "00100                                         None  False  \n",
       "00101                                         None  False  \n",
       "00102                                         None  False  \n",
       "...                                            ...    ...  \n",
       "99997363407775132790292379433452812751        None  False  \n",
       "99998319783911559758692653866775905231        None  False  \n",
       "99999087067885636914464571239461031391        None  False  \n",
       "99999155003421544234572785263257688231        None  False  \n",
       "99999763532480511365117907654043064165        None  False  \n",
       "\n",
       "[2041286 rows x 6 columns]"
      ]
     },
     "execution_count": 187,
     "metadata": {},
     "output_type": "execute_result"
    }
   ],
   "source": [
    "a"
   ]
  },
  {
   "cell_type": "code",
   "execution_count": 184,
   "id": "6e17b2b2",
   "metadata": {},
   "outputs": [
    {
     "data": {
      "text/html": [
       "<div>\n",
       "<style scoped>\n",
       "    .dataframe tbody tr th:only-of-type {\n",
       "        vertical-align: middle;\n",
       "    }\n",
       "\n",
       "    .dataframe tbody tr th {\n",
       "        vertical-align: top;\n",
       "    }\n",
       "\n",
       "    .dataframe thead th {\n",
       "        text-align: right;\n",
       "    }\n",
       "</style>\n",
       "<table border=\"1\" class=\"dataframe\">\n",
       "  <thead>\n",
       "    <tr style=\"text-align: right;\">\n",
       "      <th></th>\n",
       "      <th>promocode</th>\n",
       "      <th>eVar82</th>\n",
       "      <th>order</th>\n",
       "    </tr>\n",
       "    <tr>\n",
       "      <th>visitid</th>\n",
       "      <th></th>\n",
       "      <th></th>\n",
       "      <th></th>\n",
       "    </tr>\n",
       "  </thead>\n",
       "  <tbody>\n",
       "    <tr>\n",
       "      <th>1000108257559953773562411289844339462981</th>\n",
       "      <td>True</td>\n",
       "      <td>False</td>\n",
       "      <td>True</td>\n",
       "    </tr>\n",
       "    <tr>\n",
       "      <th>100034118541581008486617653558704628597</th>\n",
       "      <td>True</td>\n",
       "      <td>False</td>\n",
       "      <td>True</td>\n",
       "    </tr>\n",
       "    <tr>\n",
       "      <th>100068898285134821927141456802434564309</th>\n",
       "      <td>True</td>\n",
       "      <td>False</td>\n",
       "      <td>True</td>\n",
       "    </tr>\n",
       "    <tr>\n",
       "      <th>10008266340795712901655509953153309891</th>\n",
       "      <td>True</td>\n",
       "      <td>False</td>\n",
       "      <td>True</td>\n",
       "    </tr>\n",
       "    <tr>\n",
       "      <th>10008266340795712901655509953153309892</th>\n",
       "      <td>True</td>\n",
       "      <td>False</td>\n",
       "      <td>True</td>\n",
       "    </tr>\n",
       "    <tr>\n",
       "      <th>...</th>\n",
       "      <td>...</td>\n",
       "      <td>...</td>\n",
       "      <td>...</td>\n",
       "    </tr>\n",
       "    <tr>\n",
       "      <th>99898932752452050033614126798257750096</th>\n",
       "      <td>True</td>\n",
       "      <td>False</td>\n",
       "      <td>True</td>\n",
       "    </tr>\n",
       "    <tr>\n",
       "      <th>99898932752452050033614126798257750097</th>\n",
       "      <td>True</td>\n",
       "      <td>False</td>\n",
       "      <td>True</td>\n",
       "    </tr>\n",
       "    <tr>\n",
       "      <th>99966830539311880448190947143702206652</th>\n",
       "      <td>True</td>\n",
       "      <td>False</td>\n",
       "      <td>True</td>\n",
       "    </tr>\n",
       "    <tr>\n",
       "      <th>99981909984864820644946664237114942271</th>\n",
       "      <td>True</td>\n",
       "      <td>False</td>\n",
       "      <td>True</td>\n",
       "    </tr>\n",
       "    <tr>\n",
       "      <th>99986567744921905273434973551979382621</th>\n",
       "      <td>True</td>\n",
       "      <td>False</td>\n",
       "      <td>False</td>\n",
       "    </tr>\n",
       "  </tbody>\n",
       "</table>\n",
       "<p>55284 rows × 3 columns</p>\n",
       "</div>"
      ],
      "text/plain": [
       "                                          promocode  eVar82  order\n",
       "visitid                                                           \n",
       "1000108257559953773562411289844339462981       True   False   True\n",
       "100034118541581008486617653558704628597        True   False   True\n",
       "100068898285134821927141456802434564309        True   False   True\n",
       "10008266340795712901655509953153309891         True   False   True\n",
       "10008266340795712901655509953153309892         True   False   True\n",
       "...                                             ...     ...    ...\n",
       "99898932752452050033614126798257750096         True   False   True\n",
       "99898932752452050033614126798257750097         True   False   True\n",
       "99966830539311880448190947143702206652         True   False   True\n",
       "99981909984864820644946664237114942271         True   False   True\n",
       "99986567744921905273434973551979382621         True   False  False\n",
       "\n",
       "[55284 rows x 3 columns]"
      ]
     },
     "execution_count": 184,
     "metadata": {},
     "output_type": "execute_result"
    }
   ],
   "source": [
    "p_t = test[test['promocode']==1]\n",
    "p_t"
   ]
  },
  {
   "cell_type": "code",
   "execution_count": null,
   "id": "42a7f268",
   "metadata": {},
   "outputs": [],
   "source": []
  },
  {
   "cell_type": "code",
   "execution_count": 49,
   "id": "a8c0cc67",
   "metadata": {},
   "outputs": [],
   "source": [
    "dataset = pq.read_table('dataset_final.parquet')"
   ]
  },
  {
   "cell_type": "code",
   "execution_count": 50,
   "id": "dbecf6e2",
   "metadata": {},
   "outputs": [],
   "source": [
    "#convert to dataframe\n",
    "dataset = pyarrow.Table.to_pandas(dataset)"
   ]
  },
  {
   "cell_type": "code",
   "execution_count": null,
   "id": "0caf73cb",
   "metadata": {},
   "outputs": [],
   "source": [
    "# Add devicetype into Dataset "
   ]
  },
  {
   "cell_type": "code",
   "execution_count": 51,
   "id": "2971d814",
   "metadata": {},
   "outputs": [],
   "source": [
    "dataset=dataset.join(a, on='visitid', how='left')"
   ]
  },
  {
   "cell_type": "code",
   "execution_count": 52,
   "id": "f106c65b",
   "metadata": {},
   "outputs": [
    {
     "data": {
      "text/html": [
       "<div>\n",
       "<style scoped>\n",
       "    .dataframe tbody tr th:only-of-type {\n",
       "        vertical-align: middle;\n",
       "    }\n",
       "\n",
       "    .dataframe tbody tr th {\n",
       "        vertical-align: top;\n",
       "    }\n",
       "\n",
       "    .dataframe thead th {\n",
       "        text-align: right;\n",
       "    }\n",
       "</style>\n",
       "<table border=\"1\" class=\"dataframe\">\n",
       "  <thead>\n",
       "    <tr style=\"text-align: right;\">\n",
       "      <th></th>\n",
       "      <th>visitid</th>\n",
       "      <th>newvisit</th>\n",
       "      <th>pg_cat</th>\n",
       "      <th>timedelta</th>\n",
       "      <th>session_time</th>\n",
       "      <th>pg_count</th>\n",
       "      <th>sum_cart</th>\n",
       "      <th>prod_in_cart</th>\n",
       "      <th>avg_cart</th>\n",
       "      <th>min_cart</th>\n",
       "      <th>...</th>\n",
       "      <th>sum_prod</th>\n",
       "      <th>prod_viewed</th>\n",
       "      <th>avg_prod</th>\n",
       "      <th>min_prod</th>\n",
       "      <th>max_prod</th>\n",
       "      <th>ordernumber_full</th>\n",
       "      <th>devicetype</th>\n",
       "      <th>promocode</th>\n",
       "      <th>evar83</th>\n",
       "      <th>behavior_score</th>\n",
       "    </tr>\n",
       "  </thead>\n",
       "  <tbody>\n",
       "    <tr>\n",
       "      <th>0</th>\n",
       "      <td>001</td>\n",
       "      <td>0</td>\n",
       "      <td>pdp</td>\n",
       "      <td>0.0</td>\n",
       "      <td>0.0</td>\n",
       "      <td>0</td>\n",
       "      <td>0.0</td>\n",
       "      <td>0</td>\n",
       "      <td>0.0</td>\n",
       "      <td>0.0</td>\n",
       "      <td>...</td>\n",
       "      <td>0.00</td>\n",
       "      <td>0</td>\n",
       "      <td>0.00</td>\n",
       "      <td>0.00</td>\n",
       "      <td>0.00</td>\n",
       "      <td>False</td>\n",
       "      <td>Tablet</td>\n",
       "      <td>False</td>\n",
       "      <td></td>\n",
       "      <td>Unknown</td>\n",
       "    </tr>\n",
       "    <tr>\n",
       "      <th>1</th>\n",
       "      <td>001</td>\n",
       "      <td>0</td>\n",
       "      <td>search</td>\n",
       "      <td>2062.0</td>\n",
       "      <td>2062.0</td>\n",
       "      <td>1</td>\n",
       "      <td>0.0</td>\n",
       "      <td>0</td>\n",
       "      <td>0.0</td>\n",
       "      <td>0.0</td>\n",
       "      <td>...</td>\n",
       "      <td>0.00</td>\n",
       "      <td>0</td>\n",
       "      <td>0.00</td>\n",
       "      <td>0.00</td>\n",
       "      <td>0.00</td>\n",
       "      <td>False</td>\n",
       "      <td>Tablet</td>\n",
       "      <td>False</td>\n",
       "      <td></td>\n",
       "      <td>Unknown</td>\n",
       "    </tr>\n",
       "    <tr>\n",
       "      <th>2</th>\n",
       "      <td>001</td>\n",
       "      <td>0</td>\n",
       "      <td>search</td>\n",
       "      <td>227.0</td>\n",
       "      <td>2289.0</td>\n",
       "      <td>2</td>\n",
       "      <td>0.0</td>\n",
       "      <td>0</td>\n",
       "      <td>0.0</td>\n",
       "      <td>0.0</td>\n",
       "      <td>...</td>\n",
       "      <td>0.00</td>\n",
       "      <td>0</td>\n",
       "      <td>0.00</td>\n",
       "      <td>0.00</td>\n",
       "      <td>0.00</td>\n",
       "      <td>False</td>\n",
       "      <td>Tablet</td>\n",
       "      <td>False</td>\n",
       "      <td></td>\n",
       "      <td>Unknown</td>\n",
       "    </tr>\n",
       "    <tr>\n",
       "      <th>3</th>\n",
       "      <td>001</td>\n",
       "      <td>0</td>\n",
       "      <td>search</td>\n",
       "      <td>95.0</td>\n",
       "      <td>2384.0</td>\n",
       "      <td>3</td>\n",
       "      <td>0.0</td>\n",
       "      <td>0</td>\n",
       "      <td>0.0</td>\n",
       "      <td>0.0</td>\n",
       "      <td>...</td>\n",
       "      <td>0.00</td>\n",
       "      <td>0</td>\n",
       "      <td>0.00</td>\n",
       "      <td>0.00</td>\n",
       "      <td>0.00</td>\n",
       "      <td>False</td>\n",
       "      <td>Tablet</td>\n",
       "      <td>False</td>\n",
       "      <td></td>\n",
       "      <td>Unknown</td>\n",
       "    </tr>\n",
       "    <tr>\n",
       "      <th>4</th>\n",
       "      <td>001</td>\n",
       "      <td>0</td>\n",
       "      <td>search</td>\n",
       "      <td>75.0</td>\n",
       "      <td>2459.0</td>\n",
       "      <td>4</td>\n",
       "      <td>0.0</td>\n",
       "      <td>0</td>\n",
       "      <td>0.0</td>\n",
       "      <td>0.0</td>\n",
       "      <td>...</td>\n",
       "      <td>0.00</td>\n",
       "      <td>0</td>\n",
       "      <td>0.00</td>\n",
       "      <td>0.00</td>\n",
       "      <td>0.00</td>\n",
       "      <td>False</td>\n",
       "      <td>Tablet</td>\n",
       "      <td>False</td>\n",
       "      <td></td>\n",
       "      <td>Unknown</td>\n",
       "    </tr>\n",
       "    <tr>\n",
       "      <th>...</th>\n",
       "      <td>...</td>\n",
       "      <td>...</td>\n",
       "      <td>...</td>\n",
       "      <td>...</td>\n",
       "      <td>...</td>\n",
       "      <td>...</td>\n",
       "      <td>...</td>\n",
       "      <td>...</td>\n",
       "      <td>...</td>\n",
       "      <td>...</td>\n",
       "      <td>...</td>\n",
       "      <td>...</td>\n",
       "      <td>...</td>\n",
       "      <td>...</td>\n",
       "      <td>...</td>\n",
       "      <td>...</td>\n",
       "      <td>...</td>\n",
       "      <td>...</td>\n",
       "      <td>...</td>\n",
       "      <td>...</td>\n",
       "      <td>...</td>\n",
       "    </tr>\n",
       "    <tr>\n",
       "      <th>6458604</th>\n",
       "      <td>999838842448347828201007282656244896618</td>\n",
       "      <td>1</td>\n",
       "      <td>pdp</td>\n",
       "      <td>0.0</td>\n",
       "      <td>0.0</td>\n",
       "      <td>0</td>\n",
       "      <td>0.0</td>\n",
       "      <td>0</td>\n",
       "      <td>0.0</td>\n",
       "      <td>0.0</td>\n",
       "      <td>...</td>\n",
       "      <td>169.99</td>\n",
       "      <td>1</td>\n",
       "      <td>169.99</td>\n",
       "      <td>169.99</td>\n",
       "      <td>169.99</td>\n",
       "      <td>False</td>\n",
       "      <td>Tablet</td>\n",
       "      <td>False</td>\n",
       "      <td>None</td>\n",
       "      <td>Unknown</td>\n",
       "    </tr>\n",
       "    <tr>\n",
       "      <th>6458605</th>\n",
       "      <td>99997363407775132790292379433452812751</td>\n",
       "      <td>1</td>\n",
       "      <td>pdp</td>\n",
       "      <td>0.0</td>\n",
       "      <td>0.0</td>\n",
       "      <td>0</td>\n",
       "      <td>0.0</td>\n",
       "      <td>0</td>\n",
       "      <td>0.0</td>\n",
       "      <td>0.0</td>\n",
       "      <td>...</td>\n",
       "      <td>0.00</td>\n",
       "      <td>0</td>\n",
       "      <td>0.00</td>\n",
       "      <td>0.00</td>\n",
       "      <td>0.00</td>\n",
       "      <td>False</td>\n",
       "      <td>Desktop</td>\n",
       "      <td>False</td>\n",
       "      <td>None</td>\n",
       "      <td>Unknown</td>\n",
       "    </tr>\n",
       "    <tr>\n",
       "      <th>6458606</th>\n",
       "      <td>99997363407775132790292379433452812751</td>\n",
       "      <td>0</td>\n",
       "      <td>pdp</td>\n",
       "      <td>19.0</td>\n",
       "      <td>19.0</td>\n",
       "      <td>1</td>\n",
       "      <td>0.0</td>\n",
       "      <td>0</td>\n",
       "      <td>0.0</td>\n",
       "      <td>0.0</td>\n",
       "      <td>...</td>\n",
       "      <td>0.00</td>\n",
       "      <td>0</td>\n",
       "      <td>0.00</td>\n",
       "      <td>0.00</td>\n",
       "      <td>0.00</td>\n",
       "      <td>False</td>\n",
       "      <td>Desktop</td>\n",
       "      <td>False</td>\n",
       "      <td>None</td>\n",
       "      <td>Unknown</td>\n",
       "    </tr>\n",
       "    <tr>\n",
       "      <th>6458607</th>\n",
       "      <td>99997363407775132790292379433452812751</td>\n",
       "      <td>0</td>\n",
       "      <td>pdp</td>\n",
       "      <td>10.0</td>\n",
       "      <td>29.0</td>\n",
       "      <td>2</td>\n",
       "      <td>0.0</td>\n",
       "      <td>0</td>\n",
       "      <td>0.0</td>\n",
       "      <td>0.0</td>\n",
       "      <td>...</td>\n",
       "      <td>0.00</td>\n",
       "      <td>0</td>\n",
       "      <td>0.00</td>\n",
       "      <td>0.00</td>\n",
       "      <td>0.00</td>\n",
       "      <td>False</td>\n",
       "      <td>Desktop</td>\n",
       "      <td>False</td>\n",
       "      <td>None</td>\n",
       "      <td>Unknown</td>\n",
       "    </tr>\n",
       "    <tr>\n",
       "      <th>6458608</th>\n",
       "      <td>99998319783911559758692653866775905231</td>\n",
       "      <td>1</td>\n",
       "      <td>pdp</td>\n",
       "      <td>0.0</td>\n",
       "      <td>0.0</td>\n",
       "      <td>0</td>\n",
       "      <td>0.0</td>\n",
       "      <td>0</td>\n",
       "      <td>0.0</td>\n",
       "      <td>0.0</td>\n",
       "      <td>...</td>\n",
       "      <td>54.99</td>\n",
       "      <td>1</td>\n",
       "      <td>54.99</td>\n",
       "      <td>54.99</td>\n",
       "      <td>54.99</td>\n",
       "      <td>False</td>\n",
       "      <td>Tablet</td>\n",
       "      <td>False</td>\n",
       "      <td>None</td>\n",
       "      <td>Unknown</td>\n",
       "    </tr>\n",
       "  </tbody>\n",
       "</table>\n",
       "<p>6458609 rows × 21 columns</p>\n",
       "</div>"
      ],
      "text/plain": [
       "                                         visitid  newvisit  pg_cat  timedelta  \\\n",
       "0                                            001         0     pdp        0.0   \n",
       "1                                            001         0  search     2062.0   \n",
       "2                                            001         0  search      227.0   \n",
       "3                                            001         0  search       95.0   \n",
       "4                                            001         0  search       75.0   \n",
       "...                                          ...       ...     ...        ...   \n",
       "6458604  999838842448347828201007282656244896618         1     pdp        0.0   \n",
       "6458605   99997363407775132790292379433452812751         1     pdp        0.0   \n",
       "6458606   99997363407775132790292379433452812751         0     pdp       19.0   \n",
       "6458607   99997363407775132790292379433452812751         0     pdp       10.0   \n",
       "6458608   99998319783911559758692653866775905231         1     pdp        0.0   \n",
       "\n",
       "         session_time  pg_count  sum_cart  prod_in_cart  avg_cart  min_cart  \\\n",
       "0                 0.0         0       0.0             0       0.0       0.0   \n",
       "1              2062.0         1       0.0             0       0.0       0.0   \n",
       "2              2289.0         2       0.0             0       0.0       0.0   \n",
       "3              2384.0         3       0.0             0       0.0       0.0   \n",
       "4              2459.0         4       0.0             0       0.0       0.0   \n",
       "...               ...       ...       ...           ...       ...       ...   \n",
       "6458604           0.0         0       0.0             0       0.0       0.0   \n",
       "6458605           0.0         0       0.0             0       0.0       0.0   \n",
       "6458606          19.0         1       0.0             0       0.0       0.0   \n",
       "6458607          29.0         2       0.0             0       0.0       0.0   \n",
       "6458608           0.0         0       0.0             0       0.0       0.0   \n",
       "\n",
       "         ...  sum_prod  prod_viewed  avg_prod  min_prod  max_prod  \\\n",
       "0        ...      0.00            0      0.00      0.00      0.00   \n",
       "1        ...      0.00            0      0.00      0.00      0.00   \n",
       "2        ...      0.00            0      0.00      0.00      0.00   \n",
       "3        ...      0.00            0      0.00      0.00      0.00   \n",
       "4        ...      0.00            0      0.00      0.00      0.00   \n",
       "...      ...       ...          ...       ...       ...       ...   \n",
       "6458604  ...    169.99            1    169.99    169.99    169.99   \n",
       "6458605  ...      0.00            0      0.00      0.00      0.00   \n",
       "6458606  ...      0.00            0      0.00      0.00      0.00   \n",
       "6458607  ...      0.00            0      0.00      0.00      0.00   \n",
       "6458608  ...     54.99            1     54.99     54.99     54.99   \n",
       "\n",
       "         ordernumber_full  devicetype promocode  evar83 behavior_score  \n",
       "0                   False      Tablet     False                Unknown  \n",
       "1                   False      Tablet     False                Unknown  \n",
       "2                   False      Tablet     False                Unknown  \n",
       "3                   False      Tablet     False                Unknown  \n",
       "4                   False      Tablet     False                Unknown  \n",
       "...                   ...         ...       ...     ...            ...  \n",
       "6458604             False      Tablet     False    None        Unknown  \n",
       "6458605             False     Desktop     False    None        Unknown  \n",
       "6458606             False     Desktop     False    None        Unknown  \n",
       "6458607             False     Desktop     False    None        Unknown  \n",
       "6458608             False      Tablet     False    None        Unknown  \n",
       "\n",
       "[6458609 rows x 21 columns]"
      ]
     },
     "execution_count": 52,
     "metadata": {},
     "output_type": "execute_result"
    }
   ],
   "source": [
    "dataset"
   ]
  },
  {
   "cell_type": "code",
   "execution_count": 123,
   "id": "6385440c",
   "metadata": {},
   "outputs": [],
   "source": [
    "from sklearn import linear_model\n",
    "from sklearn import preprocessing\n",
    "le = preprocessing.LabelEncoder()\n",
    "dataset['pg_cat']= le.fit_transform(dataset['pg_cat'])\n",
    "dataset['devicetype']= le.fit_transform(dataset['devicetype'])\n",
    "dataset['behavior_score']= le.fit_transform(dataset['behavior_score'])"
   ]
  },
  {
   "cell_type": "code",
   "execution_count": 124,
   "id": "fa3830c2",
   "metadata": {},
   "outputs": [
    {
     "data": {
      "text/plain": [
       "<AxesSubplot:>"
      ]
     },
     "execution_count": 124,
     "metadata": {},
     "output_type": "execute_result"
    },
    {
     "data": {
      "image/png": "[encoded data removed]",
      "text/plain": [
       "<Figure size 720x576 with 2 Axes>"
      ]
     },
     "metadata": {
      "needs_background": "light"
     },
     "output_type": "display_data"
    }
   ],
   "source": [
    "import seaborn as sns\n",
    "\n",
    "f, ax = plt.subplots(figsize=(10, 8))\n",
    "corr = dataset.corr()\n",
    "sns.heatmap(corr,\n",
    "    cmap=sns.diverging_palette(220, 10, as_cmap=True),\n",
    "    vmin=-1.0, vmax=1.0,\n",
    "    square=True, ax=ax)"
   ]
  },
  {
   "cell_type": "code",
   "execution_count": 43,
   "id": "881eb1d8",
   "metadata": {},
   "outputs": [
    {
     "data": {
      "text/plain": [
       "array(['Cart_Interstitial', 'Clothing', 'Electronics', 'Shoes', 'cart',\n",
       "       'checkout', 'index', 'mobile index', 'other', 'pdp', 'search'],\n",
       "      dtype=object)"
      ]
     },
     "execution_count": 43,
     "metadata": {},
     "output_type": "execute_result"
    }
   ],
   "source": [
    "np.unique(dataset['pg_cat'])"
   ]
  },
  {
   "cell_type": "code",
   "execution_count": 72,
   "id": "0429ad16",
   "metadata": {},
   "outputs": [
    {
     "data": {
      "text/plain": [
       "Index(['visitid', 'newvisit', 'pg_cat', 'timedelta', 'session_time',\n",
       "       'pg_count', 'sum_cart', 'prod_in_cart', 'avg_cart', 'min_cart',\n",
       "       'max_cart', 'sum_prod', 'prod_viewed', 'avg_prod', 'min_prod',\n",
       "       'max_prod', 'ordernumber_full', 'devicetype', 'promocode', 'evar83',\n",
       "       'behavior_score'],\n",
       "      dtype='object')"
      ]
     },
     "execution_count": 72,
     "metadata": {},
     "output_type": "execute_result"
    }
   ],
   "source": [
    "dataset.columns"
   ]
  },
  {
   "cell_type": "code",
   "execution_count": null,
   "id": "c89a5fe2",
   "metadata": {},
   "outputs": [],
   "source": [
    "one_hot_encoded_data.drop"
   ]
  },
  {
   "cell_type": "markdown",
   "id": "e632808c",
   "metadata": {},
   "source": [
    "# Encode "
   ]
  },
  {
   "cell_type": "code",
   "execution_count": 54,
   "id": "497e9a9b",
   "metadata": {
    "scrolled": true
   },
   "outputs": [
    {
     "data": {
      "text/html": [
       "<div>\n",
       "<style scoped>\n",
       "    .dataframe tbody tr th:only-of-type {\n",
       "        vertical-align: middle;\n",
       "    }\n",
       "\n",
       "    .dataframe tbody tr th {\n",
       "        vertical-align: top;\n",
       "    }\n",
       "\n",
       "    .dataframe thead th {\n",
       "        text-align: right;\n",
       "    }\n",
       "</style>\n",
       "<table border=\"1\" class=\"dataframe\">\n",
       "  <thead>\n",
       "    <tr style=\"text-align: right;\">\n",
       "      <th></th>\n",
       "      <th>visitid</th>\n",
       "      <th>newvisit</th>\n",
       "      <th>timedelta</th>\n",
       "      <th>session_time</th>\n",
       "      <th>pg_count</th>\n",
       "      <th>sum_cart</th>\n",
       "      <th>prod_in_cart</th>\n",
       "      <th>avg_cart</th>\n",
       "      <th>min_cart</th>\n",
       "      <th>max_cart</th>\n",
       "      <th>...</th>\n",
       "      <th>pg_cat_search</th>\n",
       "      <th>devicetype_Desktop</th>\n",
       "      <th>devicetype_Mobile</th>\n",
       "      <th>devicetype_Tablet</th>\n",
       "      <th>devicetype_Unknown</th>\n",
       "      <th>behavior_score_294-361</th>\n",
       "      <th>behavior_score_361-428</th>\n",
       "      <th>behavior_score_428-495</th>\n",
       "      <th>behavior_score_495-562</th>\n",
       "      <th>behavior_score_Unknown</th>\n",
       "    </tr>\n",
       "  </thead>\n",
       "  <tbody>\n",
       "    <tr>\n",
       "      <th>0</th>\n",
       "      <td>001</td>\n",
       "      <td>0</td>\n",
       "      <td>0.0</td>\n",
       "      <td>0.0</td>\n",
       "      <td>0</td>\n",
       "      <td>0.0</td>\n",
       "      <td>0</td>\n",
       "      <td>0.0</td>\n",
       "      <td>0.0</td>\n",
       "      <td>0.0</td>\n",
       "      <td>...</td>\n",
       "      <td>0</td>\n",
       "      <td>0</td>\n",
       "      <td>0</td>\n",
       "      <td>1</td>\n",
       "      <td>0</td>\n",
       "      <td>0</td>\n",
       "      <td>0</td>\n",
       "      <td>0</td>\n",
       "      <td>0</td>\n",
       "      <td>1</td>\n",
       "    </tr>\n",
       "    <tr>\n",
       "      <th>1</th>\n",
       "      <td>001</td>\n",
       "      <td>0</td>\n",
       "      <td>2062.0</td>\n",
       "      <td>2062.0</td>\n",
       "      <td>1</td>\n",
       "      <td>0.0</td>\n",
       "      <td>0</td>\n",
       "      <td>0.0</td>\n",
       "      <td>0.0</td>\n",
       "      <td>0.0</td>\n",
       "      <td>...</td>\n",
       "      <td>1</td>\n",
       "      <td>0</td>\n",
       "      <td>0</td>\n",
       "      <td>1</td>\n",
       "      <td>0</td>\n",
       "      <td>0</td>\n",
       "      <td>0</td>\n",
       "      <td>0</td>\n",
       "      <td>0</td>\n",
       "      <td>1</td>\n",
       "    </tr>\n",
       "    <tr>\n",
       "      <th>2</th>\n",
       "      <td>001</td>\n",
       "      <td>0</td>\n",
       "      <td>227.0</td>\n",
       "      <td>2289.0</td>\n",
       "      <td>2</td>\n",
       "      <td>0.0</td>\n",
       "      <td>0</td>\n",
       "      <td>0.0</td>\n",
       "      <td>0.0</td>\n",
       "      <td>0.0</td>\n",
       "      <td>...</td>\n",
       "      <td>1</td>\n",
       "      <td>0</td>\n",
       "      <td>0</td>\n",
       "      <td>1</td>\n",
       "      <td>0</td>\n",
       "      <td>0</td>\n",
       "      <td>0</td>\n",
       "      <td>0</td>\n",
       "      <td>0</td>\n",
       "      <td>1</td>\n",
       "    </tr>\n",
       "    <tr>\n",
       "      <th>3</th>\n",
       "      <td>001</td>\n",
       "      <td>0</td>\n",
       "      <td>95.0</td>\n",
       "      <td>2384.0</td>\n",
       "      <td>3</td>\n",
       "      <td>0.0</td>\n",
       "      <td>0</td>\n",
       "      <td>0.0</td>\n",
       "      <td>0.0</td>\n",
       "      <td>0.0</td>\n",
       "      <td>...</td>\n",
       "      <td>1</td>\n",
       "      <td>0</td>\n",
       "      <td>0</td>\n",
       "      <td>1</td>\n",
       "      <td>0</td>\n",
       "      <td>0</td>\n",
       "      <td>0</td>\n",
       "      <td>0</td>\n",
       "      <td>0</td>\n",
       "      <td>1</td>\n",
       "    </tr>\n",
       "    <tr>\n",
       "      <th>4</th>\n",
       "      <td>001</td>\n",
       "      <td>0</td>\n",
       "      <td>75.0</td>\n",
       "      <td>2459.0</td>\n",
       "      <td>4</td>\n",
       "      <td>0.0</td>\n",
       "      <td>0</td>\n",
       "      <td>0.0</td>\n",
       "      <td>0.0</td>\n",
       "      <td>0.0</td>\n",
       "      <td>...</td>\n",
       "      <td>1</td>\n",
       "      <td>0</td>\n",
       "      <td>0</td>\n",
       "      <td>1</td>\n",
       "      <td>0</td>\n",
       "      <td>0</td>\n",
       "      <td>0</td>\n",
       "      <td>0</td>\n",
       "      <td>0</td>\n",
       "      <td>1</td>\n",
       "    </tr>\n",
       "  </tbody>\n",
       "</table>\n",
       "<p>5 rows × 37 columns</p>\n",
       "</div>"
      ],
      "text/plain": [
       "  visitid  newvisit  timedelta  session_time  pg_count  sum_cart  \\\n",
       "0     001         0        0.0           0.0         0       0.0   \n",
       "1     001         0     2062.0        2062.0         1       0.0   \n",
       "2     001         0      227.0        2289.0         2       0.0   \n",
       "3     001         0       95.0        2384.0         3       0.0   \n",
       "4     001         0       75.0        2459.0         4       0.0   \n",
       "\n",
       "   prod_in_cart  avg_cart  min_cart  max_cart  ...  pg_cat_search  \\\n",
       "0             0       0.0       0.0       0.0  ...              0   \n",
       "1             0       0.0       0.0       0.0  ...              1   \n",
       "2             0       0.0       0.0       0.0  ...              1   \n",
       "3             0       0.0       0.0       0.0  ...              1   \n",
       "4             0       0.0       0.0       0.0  ...              1   \n",
       "\n",
       "   devicetype_Desktop  devicetype_Mobile  devicetype_Tablet  \\\n",
       "0                   0                  0                  1   \n",
       "1                   0                  0                  1   \n",
       "2                   0                  0                  1   \n",
       "3                   0                  0                  1   \n",
       "4                   0                  0                  1   \n",
       "\n",
       "   devicetype_Unknown  behavior_score_294-361  behavior_score_361-428  \\\n",
       "0                   0                       0                       0   \n",
       "1                   0                       0                       0   \n",
       "2                   0                       0                       0   \n",
       "3                   0                       0                       0   \n",
       "4                   0                       0                       0   \n",
       "\n",
       "   behavior_score_428-495  behavior_score_495-562  behavior_score_Unknown  \n",
       "0                       0                       0                       1  \n",
       "1                       0                       0                       1  \n",
       "2                       0                       0                       1  \n",
       "3                       0                       0                       1  \n",
       "4                       0                       0                       1  \n",
       "\n",
       "[5 rows x 37 columns]"
      ]
     },
     "execution_count": 54,
     "metadata": {},
     "output_type": "execute_result"
    }
   ],
   "source": [
    "one_hot_encoded_data = pd.get_dummies(dataset,columns=['pg_cat','devicetype','behavior_score'])\n",
    "one_hot_encoded_data=one_hot_encoded_data.drop(columns=['evar83'])\n",
    "one_hot_encoded_data.head()"
   ]
  },
  {
   "cell_type": "code",
   "execution_count": 98,
   "id": "dd8ce341",
   "metadata": {},
   "outputs": [],
   "source": [
    "one_hot_encoded_less660 = one_hot_encoded_data[one_hot_encoded_data['timedelta']<660]"
   ]
  },
  {
   "cell_type": "code",
   "execution_count": 99,
   "id": "3fa26ca4",
   "metadata": {},
   "outputs": [],
   "source": [
    "# session time\n",
    "session_time = one_hot_encoded_less660.groupby('visitid')['timedelta'].cumsum()"
   ]
  },
  {
   "cell_type": "code",
   "execution_count": 100,
   "id": "7cd51835",
   "metadata": {},
   "outputs": [
    {
     "name": "stderr",
     "output_type": "stream",
     "text": [
      "/var/folders/xd/39vn4ttx5239g2gxfkr0tm_r0000gn/T/ipykernel_75926/3364421944.py:1: SettingWithCopyWarning: \n",
      "A value is trying to be set on a copy of a slice from a DataFrame.\n",
      "Try using .loc[row_indexer,col_indexer] = value instead\n",
      "\n",
      "See the caveats in the documentation: https://pandas.pydata.org/pandas-docs/stable/user_guide/indexing.html#returning-a-view-versus-a-copy\n",
      "  one_hot_encoded_less660['session_time']=session_time\n"
     ]
    }
   ],
   "source": [
    "one_hot_encoded_less660['session_time']=session_time"
   ]
  },
  {
   "cell_type": "code",
   "execution_count": 101,
   "id": "3235b2ef",
   "metadata": {},
   "outputs": [
    {
     "data": {
      "text/html": [
       "<div>\n",
       "<style scoped>\n",
       "    .dataframe tbody tr th:only-of-type {\n",
       "        vertical-align: middle;\n",
       "    }\n",
       "\n",
       "    .dataframe tbody tr th {\n",
       "        vertical-align: top;\n",
       "    }\n",
       "\n",
       "    .dataframe thead th {\n",
       "        text-align: right;\n",
       "    }\n",
       "</style>\n",
       "<table border=\"1\" class=\"dataframe\">\n",
       "  <thead>\n",
       "    <tr style=\"text-align: right;\">\n",
       "      <th></th>\n",
       "      <th>visitid</th>\n",
       "      <th>newvisit</th>\n",
       "      <th>timedelta</th>\n",
       "      <th>session_time</th>\n",
       "      <th>pg_count</th>\n",
       "      <th>sum_cart</th>\n",
       "      <th>prod_in_cart</th>\n",
       "      <th>avg_cart</th>\n",
       "      <th>min_cart</th>\n",
       "      <th>max_cart</th>\n",
       "      <th>...</th>\n",
       "      <th>pg_cat_search</th>\n",
       "      <th>devicetype_Desktop</th>\n",
       "      <th>devicetype_Mobile</th>\n",
       "      <th>devicetype_Tablet</th>\n",
       "      <th>devicetype_Unknown</th>\n",
       "      <th>behavior_score_294-361</th>\n",
       "      <th>behavior_score_361-428</th>\n",
       "      <th>behavior_score_428-495</th>\n",
       "      <th>behavior_score_495-562</th>\n",
       "      <th>behavior_score_Unknown</th>\n",
       "    </tr>\n",
       "  </thead>\n",
       "  <tbody>\n",
       "    <tr>\n",
       "      <th>0</th>\n",
       "      <td>001</td>\n",
       "      <td>0</td>\n",
       "      <td>0.0</td>\n",
       "      <td>0.0</td>\n",
       "      <td>0</td>\n",
       "      <td>0.0</td>\n",
       "      <td>0</td>\n",
       "      <td>0.0</td>\n",
       "      <td>0.0</td>\n",
       "      <td>0.0</td>\n",
       "      <td>...</td>\n",
       "      <td>0</td>\n",
       "      <td>0</td>\n",
       "      <td>0</td>\n",
       "      <td>1</td>\n",
       "      <td>0</td>\n",
       "      <td>0</td>\n",
       "      <td>0</td>\n",
       "      <td>0</td>\n",
       "      <td>0</td>\n",
       "      <td>1</td>\n",
       "    </tr>\n",
       "    <tr>\n",
       "      <th>2</th>\n",
       "      <td>001</td>\n",
       "      <td>0</td>\n",
       "      <td>227.0</td>\n",
       "      <td>227.0</td>\n",
       "      <td>2</td>\n",
       "      <td>0.0</td>\n",
       "      <td>0</td>\n",
       "      <td>0.0</td>\n",
       "      <td>0.0</td>\n",
       "      <td>0.0</td>\n",
       "      <td>...</td>\n",
       "      <td>1</td>\n",
       "      <td>0</td>\n",
       "      <td>0</td>\n",
       "      <td>1</td>\n",
       "      <td>0</td>\n",
       "      <td>0</td>\n",
       "      <td>0</td>\n",
       "      <td>0</td>\n",
       "      <td>0</td>\n",
       "      <td>1</td>\n",
       "    </tr>\n",
       "    <tr>\n",
       "      <th>3</th>\n",
       "      <td>001</td>\n",
       "      <td>0</td>\n",
       "      <td>95.0</td>\n",
       "      <td>322.0</td>\n",
       "      <td>3</td>\n",
       "      <td>0.0</td>\n",
       "      <td>0</td>\n",
       "      <td>0.0</td>\n",
       "      <td>0.0</td>\n",
       "      <td>0.0</td>\n",
       "      <td>...</td>\n",
       "      <td>1</td>\n",
       "      <td>0</td>\n",
       "      <td>0</td>\n",
       "      <td>1</td>\n",
       "      <td>0</td>\n",
       "      <td>0</td>\n",
       "      <td>0</td>\n",
       "      <td>0</td>\n",
       "      <td>0</td>\n",
       "      <td>1</td>\n",
       "    </tr>\n",
       "    <tr>\n",
       "      <th>4</th>\n",
       "      <td>001</td>\n",
       "      <td>0</td>\n",
       "      <td>75.0</td>\n",
       "      <td>397.0</td>\n",
       "      <td>4</td>\n",
       "      <td>0.0</td>\n",
       "      <td>0</td>\n",
       "      <td>0.0</td>\n",
       "      <td>0.0</td>\n",
       "      <td>0.0</td>\n",
       "      <td>...</td>\n",
       "      <td>1</td>\n",
       "      <td>0</td>\n",
       "      <td>0</td>\n",
       "      <td>1</td>\n",
       "      <td>0</td>\n",
       "      <td>0</td>\n",
       "      <td>0</td>\n",
       "      <td>0</td>\n",
       "      <td>0</td>\n",
       "      <td>1</td>\n",
       "    </tr>\n",
       "    <tr>\n",
       "      <th>5</th>\n",
       "      <td>001</td>\n",
       "      <td>0</td>\n",
       "      <td>207.0</td>\n",
       "      <td>604.0</td>\n",
       "      <td>5</td>\n",
       "      <td>0.0</td>\n",
       "      <td>0</td>\n",
       "      <td>0.0</td>\n",
       "      <td>0.0</td>\n",
       "      <td>0.0</td>\n",
       "      <td>...</td>\n",
       "      <td>0</td>\n",
       "      <td>0</td>\n",
       "      <td>0</td>\n",
       "      <td>1</td>\n",
       "      <td>0</td>\n",
       "      <td>0</td>\n",
       "      <td>0</td>\n",
       "      <td>0</td>\n",
       "      <td>0</td>\n",
       "      <td>1</td>\n",
       "    </tr>\n",
       "    <tr>\n",
       "      <th>...</th>\n",
       "      <td>...</td>\n",
       "      <td>...</td>\n",
       "      <td>...</td>\n",
       "      <td>...</td>\n",
       "      <td>...</td>\n",
       "      <td>...</td>\n",
       "      <td>...</td>\n",
       "      <td>...</td>\n",
       "      <td>...</td>\n",
       "      <td>...</td>\n",
       "      <td>...</td>\n",
       "      <td>...</td>\n",
       "      <td>...</td>\n",
       "      <td>...</td>\n",
       "      <td>...</td>\n",
       "      <td>...</td>\n",
       "      <td>...</td>\n",
       "      <td>...</td>\n",
       "      <td>...</td>\n",
       "      <td>...</td>\n",
       "      <td>...</td>\n",
       "    </tr>\n",
       "    <tr>\n",
       "      <th>6458604</th>\n",
       "      <td>999838842448347828201007282656244896618</td>\n",
       "      <td>1</td>\n",
       "      <td>0.0</td>\n",
       "      <td>0.0</td>\n",
       "      <td>0</td>\n",
       "      <td>0.0</td>\n",
       "      <td>0</td>\n",
       "      <td>0.0</td>\n",
       "      <td>0.0</td>\n",
       "      <td>0.0</td>\n",
       "      <td>...</td>\n",
       "      <td>0</td>\n",
       "      <td>0</td>\n",
       "      <td>0</td>\n",
       "      <td>1</td>\n",
       "      <td>0</td>\n",
       "      <td>0</td>\n",
       "      <td>0</td>\n",
       "      <td>0</td>\n",
       "      <td>0</td>\n",
       "      <td>1</td>\n",
       "    </tr>\n",
       "    <tr>\n",
       "      <th>6458605</th>\n",
       "      <td>99997363407775132790292379433452812751</td>\n",
       "      <td>1</td>\n",
       "      <td>0.0</td>\n",
       "      <td>0.0</td>\n",
       "      <td>0</td>\n",
       "      <td>0.0</td>\n",
       "      <td>0</td>\n",
       "      <td>0.0</td>\n",
       "      <td>0.0</td>\n",
       "      <td>0.0</td>\n",
       "      <td>...</td>\n",
       "      <td>0</td>\n",
       "      <td>1</td>\n",
       "      <td>0</td>\n",
       "      <td>0</td>\n",
       "      <td>0</td>\n",
       "      <td>0</td>\n",
       "      <td>0</td>\n",
       "      <td>0</td>\n",
       "      <td>0</td>\n",
       "      <td>1</td>\n",
       "    </tr>\n",
       "    <tr>\n",
       "      <th>6458606</th>\n",
       "      <td>99997363407775132790292379433452812751</td>\n",
       "      <td>0</td>\n",
       "      <td>19.0</td>\n",
       "      <td>19.0</td>\n",
       "      <td>1</td>\n",
       "      <td>0.0</td>\n",
       "      <td>0</td>\n",
       "      <td>0.0</td>\n",
       "      <td>0.0</td>\n",
       "      <td>0.0</td>\n",
       "      <td>...</td>\n",
       "      <td>0</td>\n",
       "      <td>1</td>\n",
       "      <td>0</td>\n",
       "      <td>0</td>\n",
       "      <td>0</td>\n",
       "      <td>0</td>\n",
       "      <td>0</td>\n",
       "      <td>0</td>\n",
       "      <td>0</td>\n",
       "      <td>1</td>\n",
       "    </tr>\n",
       "    <tr>\n",
       "      <th>6458607</th>\n",
       "      <td>99997363407775132790292379433452812751</td>\n",
       "      <td>0</td>\n",
       "      <td>10.0</td>\n",
       "      <td>29.0</td>\n",
       "      <td>2</td>\n",
       "      <td>0.0</td>\n",
       "      <td>0</td>\n",
       "      <td>0.0</td>\n",
       "      <td>0.0</td>\n",
       "      <td>0.0</td>\n",
       "      <td>...</td>\n",
       "      <td>0</td>\n",
       "      <td>1</td>\n",
       "      <td>0</td>\n",
       "      <td>0</td>\n",
       "      <td>0</td>\n",
       "      <td>0</td>\n",
       "      <td>0</td>\n",
       "      <td>0</td>\n",
       "      <td>0</td>\n",
       "      <td>1</td>\n",
       "    </tr>\n",
       "    <tr>\n",
       "      <th>6458608</th>\n",
       "      <td>99998319783911559758692653866775905231</td>\n",
       "      <td>1</td>\n",
       "      <td>0.0</td>\n",
       "      <td>0.0</td>\n",
       "      <td>0</td>\n",
       "      <td>0.0</td>\n",
       "      <td>0</td>\n",
       "      <td>0.0</td>\n",
       "      <td>0.0</td>\n",
       "      <td>0.0</td>\n",
       "      <td>...</td>\n",
       "      <td>0</td>\n",
       "      <td>0</td>\n",
       "      <td>0</td>\n",
       "      <td>1</td>\n",
       "      <td>0</td>\n",
       "      <td>0</td>\n",
       "      <td>0</td>\n",
       "      <td>0</td>\n",
       "      <td>0</td>\n",
       "      <td>1</td>\n",
       "    </tr>\n",
       "  </tbody>\n",
       "</table>\n",
       "<p>6434421 rows × 37 columns</p>\n",
       "</div>"
      ],
      "text/plain": [
       "                                         visitid  newvisit  timedelta  \\\n",
       "0                                            001         0        0.0   \n",
       "2                                            001         0      227.0   \n",
       "3                                            001         0       95.0   \n",
       "4                                            001         0       75.0   \n",
       "5                                            001         0      207.0   \n",
       "...                                          ...       ...        ...   \n",
       "6458604  999838842448347828201007282656244896618         1        0.0   \n",
       "6458605   99997363407775132790292379433452812751         1        0.0   \n",
       "6458606   99997363407775132790292379433452812751         0       19.0   \n",
       "6458607   99997363407775132790292379433452812751         0       10.0   \n",
       "6458608   99998319783911559758692653866775905231         1        0.0   \n",
       "\n",
       "         session_time  pg_count  sum_cart  prod_in_cart  avg_cart  min_cart  \\\n",
       "0                 0.0         0       0.0             0       0.0       0.0   \n",
       "2               227.0         2       0.0             0       0.0       0.0   \n",
       "3               322.0         3       0.0             0       0.0       0.0   \n",
       "4               397.0         4       0.0             0       0.0       0.0   \n",
       "5               604.0         5       0.0             0       0.0       0.0   \n",
       "...               ...       ...       ...           ...       ...       ...   \n",
       "6458604           0.0         0       0.0             0       0.0       0.0   \n",
       "6458605           0.0         0       0.0             0       0.0       0.0   \n",
       "6458606          19.0         1       0.0             0       0.0       0.0   \n",
       "6458607          29.0         2       0.0             0       0.0       0.0   \n",
       "6458608           0.0         0       0.0             0       0.0       0.0   \n",
       "\n",
       "         max_cart  ...  pg_cat_search  devicetype_Desktop  devicetype_Mobile  \\\n",
       "0             0.0  ...              0                   0                  0   \n",
       "2             0.0  ...              1                   0                  0   \n",
       "3             0.0  ...              1                   0                  0   \n",
       "4             0.0  ...              1                   0                  0   \n",
       "5             0.0  ...              0                   0                  0   \n",
       "...           ...  ...            ...                 ...                ...   \n",
       "6458604       0.0  ...              0                   0                  0   \n",
       "6458605       0.0  ...              0                   1                  0   \n",
       "6458606       0.0  ...              0                   1                  0   \n",
       "6458607       0.0  ...              0                   1                  0   \n",
       "6458608       0.0  ...              0                   0                  0   \n",
       "\n",
       "         devicetype_Tablet  devicetype_Unknown  behavior_score_294-361  \\\n",
       "0                        1                   0                       0   \n",
       "2                        1                   0                       0   \n",
       "3                        1                   0                       0   \n",
       "4                        1                   0                       0   \n",
       "5                        1                   0                       0   \n",
       "...                    ...                 ...                     ...   \n",
       "6458604                  1                   0                       0   \n",
       "6458605                  0                   0                       0   \n",
       "6458606                  0                   0                       0   \n",
       "6458607                  0                   0                       0   \n",
       "6458608                  1                   0                       0   \n",
       "\n",
       "         behavior_score_361-428  behavior_score_428-495  \\\n",
       "0                             0                       0   \n",
       "2                             0                       0   \n",
       "3                             0                       0   \n",
       "4                             0                       0   \n",
       "5                             0                       0   \n",
       "...                         ...                     ...   \n",
       "6458604                       0                       0   \n",
       "6458605                       0                       0   \n",
       "6458606                       0                       0   \n",
       "6458607                       0                       0   \n",
       "6458608                       0                       0   \n",
       "\n",
       "         behavior_score_495-562  behavior_score_Unknown  \n",
       "0                             0                       1  \n",
       "2                             0                       1  \n",
       "3                             0                       1  \n",
       "4                             0                       1  \n",
       "5                             0                       1  \n",
       "...                         ...                     ...  \n",
       "6458604                       0                       1  \n",
       "6458605                       0                       1  \n",
       "6458606                       0                       1  \n",
       "6458607                       0                       1  \n",
       "6458608                       0                       1  \n",
       "\n",
       "[6434421 rows x 37 columns]"
      ]
     },
     "execution_count": 101,
     "metadata": {},
     "output_type": "execute_result"
    }
   ],
   "source": [
    "one_hot_encoded_less660"
   ]
  },
  {
   "cell_type": "code",
   "execution_count": 91,
   "id": "e7f0d94f",
   "metadata": {},
   "outputs": [
    {
     "data": {
      "text/plain": [
       "Index(['visitid', 'newvisit', 'timedelta', 'session_time', 'pg_count',\n",
       "       'sum_cart', 'prod_in_cart', 'avg_cart', 'min_cart', 'max_cart',\n",
       "       'sum_prod', 'prod_viewed', 'avg_prod', 'min_prod', 'max_prod',\n",
       "       'ordernumber_full', 'pg_cat_Cart_Interstitial', 'pg_cat_Clothing',\n",
       "       'pg_cat_Electronics', 'pg_cat_Shoes', 'pg_cat_cart', 'pg_cat_checkout',\n",
       "       'pg_cat_index', 'pg_cat_mobile index', 'pg_cat_other', 'pg_cat_pdp',\n",
       "       'pg_cat_search', 'devicetype_Desktop', 'devicetype_Mobile',\n",
       "       'devicetype_Tablet', 'devicetype_Unknown'],\n",
       "      dtype='object')"
      ]
     },
     "execution_count": 91,
     "metadata": {},
     "output_type": "execute_result"
    }
   ],
   "source": [
    "one_hot_encoded_data.columns"
   ]
  },
  {
   "cell_type": "code",
   "execution_count": 74,
   "id": "3ea23241",
   "metadata": {},
   "outputs": [
    {
     "data": {
      "text/plain": [
       "<AxesSubplot:>"
      ]
     },
     "execution_count": 74,
     "metadata": {},
     "output_type": "execute_result"
    },
    {
     "data": {
      "image/png": "[encoded data removed]",
      "text/plain": [
       "<Figure size 720x576 with 2 Axes>"
      ]
     },
     "metadata": {
      "needs_background": "light"
     },
     "output_type": "display_data"
    }
   ],
   "source": [
    "import seaborn as sns\n",
    "\n",
    "f, ax = plt.subplots(figsize=(10, 8))\n",
    "corr = one_hot_encoded_data.corr()\n",
    "sns.heatmap(corr,\n",
    "    cmap=sns.diverging_palette(220, 10, as_cmap=True),\n",
    "    vmin=-1.0, vmax=1.0,\n",
    "    square=True, ax=ax)"
   ]
  },
  {
   "cell_type": "markdown",
   "id": "817fda4a",
   "metadata": {},
   "source": [
    "# Split Data"
   ]
  },
  {
   "cell_type": "code",
   "execution_count": null,
   "id": "22a4b0d3",
   "metadata": {},
   "outputs": [
    {
     "name": "stderr",
     "output_type": "stream",
     "text": [
      "/var/folders/xd/39vn4ttx5239g2gxfkr0tm_r0000gn/T/ipykernel_75926/1280257828.py:5: SettingWithCopyWarning: \n",
      "A value is trying to be set on a copy of a slice from a DataFrame\n",
      "\n",
      "See the caveats in the documentation: https://pandas.pydata.org/pandas-docs/stable/user_guide/indexing.html#returning-a-view-versus-a-copy\n",
      "  one_hot_encoded_data['newvisit'][i] =  D[one_hot_encoded_data['visitid'][i]]\n"
     ]
    }
   ],
   "source": [
    "D = {}\n",
    "for i in range(6458609):\n",
    "    \n",
    "    if one_hot_encoded_data['visitid'][i] in D:\n",
    "        one_hot_encoded_data['newvisit'][i] =  D[one_hot_encoded_data['visitid'][i]]\n",
    "    else:\n",
    "        D[one_hot_encoded_data['visitid'][i]] = one_hot_encoded_data['newvisit'][i]\n"
   ]
  },
  {
   "cell_type": "code",
   "execution_count": null,
   "id": "2be7fdc0",
   "metadata": {},
   "outputs": [],
   "source": [
    "one_hot_encoded_data"
   ]
  },
  {
   "cell_type": "code",
   "execution_count": 88,
   "id": "c1cccc7e",
   "metadata": {},
   "outputs": [
    {
     "name": "stdout",
     "output_type": "stream",
     "text": [
      "(51668, 35)\n",
      "(51668,)\n",
      "(12918, 35)\n",
      "(12918,)\n"
     ]
    }
   ],
   "source": [
    "#for SVM and KNN\n",
    "sampledata = one_hot_encoded_data.sample(frac = 0.01) \n",
    "data = sampledata.drop([\"ordernumber_full\", \"visitid\"], axis=1)\n",
    "label = sampledata[\"ordernumber_full\"].copy()\n",
    "\n",
    "sX_train, sX_test, sy_train, sy_test = train_test_split(data, label, test_size=0.2)\n",
    "\n",
    "print(sX_train.shape)\n",
    "print(sy_train.shape)\n",
    "print(sX_test.shape)\n",
    "print(sy_test.shape)"
   ]
  },
  {
   "cell_type": "code",
   "execution_count": 102,
   "id": "03f7e330",
   "metadata": {},
   "outputs": [
    {
     "name": "stdout",
     "output_type": "stream",
     "text": [
      "(5147536, 35)\n",
      "(5147536,)\n",
      "(1286885, 35)\n",
      "(1286885,)\n"
     ]
    }
   ],
   "source": [
    "data = one_hot_encoded_less660.drop([\"ordernumber_full\", \"visitid\"], axis=1)\n",
    "label = one_hot_encoded_less660[\"ordernumber_full\"].copy()\n",
    "\n",
    "X_train, X_test, y_train, y_test = train_test_split(data, label, test_size=0.2)\n",
    "\n",
    "print(X_train.shape)\n",
    "print(y_train.shape)\n",
    "print(X_test.shape)\n",
    "print(y_test.shape)"
   ]
  },
  {
   "cell_type": "code",
   "execution_count": 111,
   "id": "148f54d1",
   "metadata": {},
   "outputs": [
    {
     "name": "stdout",
     "output_type": "stream",
     "text": [
      "(6434421, 37)\n",
      "(6458609, 37)\n"
     ]
    }
   ],
   "source": [
    "print(one_hot_encoded_less660.shape)\n",
    "print(one_hot_encoded_data.shape)"
   ]
  },
  {
   "cell_type": "code",
   "execution_count": null,
   "id": "0f988edb",
   "metadata": {},
   "outputs": [],
   "source": [
    "data = one_hot_encoded_data.drop([\"ordernumber_full\", \"visitid\"], axis=1)\n",
    "label = one_hot_encoded_data[\"ordernumber_full\"].copy()\n",
    "\n",
    "X_train, X_test, y_train, y_test = train_test_split(data, label, test_size=0.2)\n",
    "\n",
    "print(X_train.shape)\n",
    "print(y_train.shape)\n",
    "ㄇprint(X_test.shape)\n",
    "print(y_test.shape)\n",
    "\n",
    "one_hot_encoded_less660"
   ]
  },
  {
   "cell_type": "code",
   "execution_count": 12,
   "id": "8a33b02e",
   "metadata": {},
   "outputs": [],
   "source": [
    "from sklearn.ensemble import RandomForestClassifier\n",
    "from sklearn.datasets import make_classification\n",
    "from sklearn.model_selection import cross_val_score"
   ]
  },
  {
   "cell_type": "code",
   "execution_count": 103,
   "id": "ef65393f",
   "metadata": {},
   "outputs": [
    {
     "name": "stderr",
     "output_type": "stream",
     "text": [
      "UsageError: Line magic function `%%time` not found.\n"
     ]
    }
   ],
   "source": [
    "%%time\n",
    "clf = RandomForestClassifier(random_state=0)\n",
    "\n",
    "clf.fit(X_train, y_train)\n",
    "\n",
    "predictions_rf = clf.predict(X_test)\n",
    "%%time"
   ]
  },
  {
   "cell_type": "code",
   "execution_count": 104,
   "id": "86b96603",
   "metadata": {},
   "outputs": [
    {
     "name": "stdout",
     "output_type": "stream",
     "text": [
      "Final result for random forest:\n",
      "1. Accuracy: 0.9623610501326847\n",
      "2. Precision: 0.9800287627463867\n",
      "3. Recall: 0.8768598818642049\n",
      "4. F1 Score: 0.9255782866888429\n"
     ]
    }
   ],
   "source": [
    "from sklearn import metrics\n",
    "\n",
    "print(\"Final result for random forest:\")\n",
    "print('1. Accuracy:', metrics.accuracy_score(y_test, predictions_rf))\n",
    "print('2. Precision:', metrics.precision_score(y_test, predictions_rf))\n",
    "print('3. Recall:', metrics.recall_score(y_test, predictions_rf))\n",
    "print('4. F1 Score:', metrics.f1_score(y_test, predictions_rf))"
   ]
  },
  {
   "cell_type": "code",
   "execution_count": 105,
   "id": "1e7bc7c5",
   "metadata": {
    "scrolled": true
   },
   "outputs": [
    {
     "name": "stderr",
     "output_type": "stream",
     "text": [
      "/Users/yun/opt/anaconda3/lib/python3.9/site-packages/sklearn/utils/deprecation.py:87: FutureWarning: Function plot_confusion_matrix is deprecated; Function `plot_confusion_matrix` is deprecated in 1.0 and will be removed in 1.2. Use one of the class methods: ConfusionMatrixDisplay.from_predictions or ConfusionMatrixDisplay.from_estimator.\n",
      "  warnings.warn(msg, category=FutureWarning)\n"
     ]
    },
    {
     "data": {
      "text/plain": [
       "<sklearn.metrics._plot.confusion_matrix.ConfusionMatrixDisplay at 0x7fbc04cd3ac0>"
      ]
     },
     "execution_count": 105,
     "metadata": {},
     "output_type": "execute_result"
    },
    {
     "data": {
      "image/png": "[encoded data removed]",
      "text/plain": [
       "<Figure size 432x288 with 2 Axes>"
      ]
     },
     "metadata": {
      "needs_background": "light"
     },
     "output_type": "display_data"
    }
   ],
   "source": [
    "#from sklearn.metrics import plot_ddconfusion_matrix\n",
    "plot_confusion_matrix(clf, X_test, y_test)"
   ]
  },
  {
   "cell_type": "code",
   "execution_count": null,
   "id": "2134e45d",
   "metadata": {},
   "outputs": [],
   "source": [
    " import matplotlib.pyplot as plt\n",
    "import numpy as np\n",
    ">>> from sklearn import metrics\n",
    ">>> y = np.array([0, 0, 1, 1])\n",
    ">>> pred = np.array([0.1, 0.4, 0.35, 0.8])\n",
    ">>> fpr, tpr, thresholds = metrics.roc_curve(y, pred)\n",
    ">>> roc_auc = metrics.auc(fpr, tpr)\n",
    ">>> display = metrics.RocCurveDisplay(fpr=fpr, tpr=tpr, roc_auc=roc_auc,\n",
    "...                                   estimator_name='example estimator')\n",
    ">>> display.plot()\n",
    "<...>\n",
    ">>> plt.show()"
   ]
  },
  {
   "cell_type": "code",
   "execution_count": 190,
   "id": "1fe4a95a",
   "metadata": {},
   "outputs": [
    {
     "data": {
      "image/png": "[encoded data removed]",
      "text/plain": [
       "<Figure size 432x288 with 1 Axes>"
      ]
     },
     "metadata": {
      "needs_background": "light"
     },
     "output_type": "display_data"
    }
   ],
   "source": [
    "from sklearn.metrics import RocCurveDisplay\n",
    "\n",
    "fpr, tpr, _ = metrics.roc_curve(y_test,  predictions_rf)\n",
    "\n",
    "#create ROC curve\n",
    "plt.plot(fpr,tpr)\n",
    "\n",
    "#display.plot()\n",
    "plt.ylabel('True Positive Rate')\n",
    "plt.xlabel('False Positive Rate')\n",
    "plt.title(\"ROC for Random Forest\",fontsize=20)\n",
    "plt.show()"
   ]
  },
  {
   "cell_type": "code",
   "execution_count": 61,
   "id": "f0eecee0",
   "metadata": {},
   "outputs": [
    {
     "data": {
      "text/plain": [
       "Text(0, 0.5, 'Mean decrease in impurity')"
      ]
     },
     "execution_count": 61,
     "metadata": {},
     "output_type": "execute_result"
    },
    {
     "data": {
      "image/png": "[encoded data removed]",
      "text/plain": [
       "<Figure size 864x576 with 1 Axes>"
      ]
     },
     "metadata": {
      "needs_background": "light"
     },
     "output_type": "display_data"
    }
   ],
   "source": [
    "plt.figure(figsize=(12,8))\n",
    "sorted_idx = clf.feature_importances_.argsort()[::-1]\n",
    "plt.bar(X_train.columns[sorted_idx], clf.feature_importances_[sorted_idx])\n",
    "plt.xticks(rotation=90)\n",
    "plt.title(\"Random Forest Feature importances using MDI\", fontsize=20)\n",
    "plt.ylabel(\"Mean decrease in impurity\", fontsize=14)\n"
   ]
  },
  {
   "cell_type": "code",
   "execution_count": 141,
   "id": "15cdb0e2",
   "metadata": {},
   "outputs": [
    {
     "data": {
      "text/plain": [
       "3772071"
      ]
     },
     "execution_count": 141,
     "metadata": {},
     "output_type": "execute_result"
    }
   ],
   "source": [
    "sum(y_train==0)"
   ]
  },
  {
   "cell_type": "code",
   "execution_count": 160,
   "id": "d936bdce",
   "metadata": {},
   "outputs": [
    {
     "data": {
      "text/plain": [
       "array([0.68232226, 1.87119847])"
      ]
     },
     "execution_count": 160,
     "metadata": {},
     "output_type": "execute_result"
    }
   ],
   "source": [
    "from sklearn.utils.class_weight import compute_class_weight\n",
    "\n",
    "class_weight = {0: 0.95,\n",
    "                1: 0.05}\n",
    "class_weights = compute_class_weight(class_weight = \"balanced\", classes =np.unique(y_train),y=y_train )\n",
    "class_weights"
   ]
  },
  {
   "cell_type": "code",
   "execution_count": 166,
   "id": "cd6e9134",
   "metadata": {},
   "outputs": [
    {
     "name": "stderr",
     "output_type": "stream",
     "text": [
      "/Users/yun/opt/anaconda3/lib/python3.9/site-packages/sklearn/linear_model/_logistic.py:814: ConvergenceWarning: lbfgs failed to converge (status=1):\n",
      "STOP: TOTAL NO. of ITERATIONS REACHED LIMIT.\n",
      "\n",
      "Increase the number of iterations (max_iter) or scale the data as shown in:\n",
      "    https://scikit-learn.org/stable/modules/preprocessing.html\n",
      "Please also refer to the documentation for alternative solver options:\n",
      "    https://scikit-learn.org/stable/modules/linear_model.html#logistic-regression\n",
      "  n_iter_i = _check_optimize_result(\n"
     ]
    }
   ],
   "source": [
    "from sklearn.linear_model  import LogisticRegression\n",
    "log_incr = LogisticRegression(class_weight=class_weight)\n",
    "#para = {\"penalty\": (\"l1\", \"l2\", \"elasticnet\")}\n",
    "#clf_LR = GridSearchCV(log_incr, para, cv = 3)\n",
    "log_incr.fit(X_train, y_train.values.ravel())\n",
    "\n",
    "predictions_incr = log_incr.predict(X_test)\n",
    "#clf_LR.best_estimator_\n"
   ]
  },
  {
   "cell_type": "code",
   "execution_count": 167,
   "id": "1dfde0dd",
   "metadata": {},
   "outputs": [
    {
     "name": "stdout",
     "output_type": "stream",
     "text": [
      "1. Accuracy: 0.7328828916336736\n",
      "2. Precision: 0.4318936877076412\n",
      "3. Recall: 0.002270722526440817\n",
      "4. F1 Score: 0.004517692849013492\n"
     ]
    }
   ],
   "source": [
    "print('1. Accuracy:', metrics.accuracy_score(y_test, predictions_incr))\n",
    "print('2. Precision:', metrics.precision_score(y_test, predictions_incr))\n",
    "print('3. Recall:', metrics.recall_score(y_test, predictions_incr))\n",
    "print('4. F1 Score:', metrics.f1_score(y_test, predictions_incr))"
   ]
  },
  {
   "cell_type": "code",
   "execution_count": 115,
   "id": "59fc1567",
   "metadata": {
    "scrolled": true
   },
   "outputs": [
    {
     "name": "stdout",
     "output_type": "stream",
     "text": [
      "1. Accuracy: 0.7414081289314896\n",
      "2. Precision: 0.5531387801615221\n",
      "3. Recall: 0.16250221977682874\n",
      "4. F1 Score: 0.2512049466943283\n"
     ]
    }
   ],
   "source": [
    "print('1. Accuracy:', metrics.accuracy_score(y_test, predictions_incr))\n",
    "print('2. Precision:', metrics.precision_score(y_test, predictions_incr))\n",
    "print('3. Recall:', metrics.recall_score(y_test, predictions_incr))\n",
    "print('4. F1 Score:', metrics.f1_score(y_test, predictions_incr))"
   ]
  },
  {
   "cell_type": "code",
   "execution_count": 116,
   "id": "89a712cd",
   "metadata": {},
   "outputs": [
    {
     "name": "stderr",
     "output_type": "stream",
     "text": [
      "/Users/yun/opt/anaconda3/lib/python3.9/site-packages/sklearn/utils/deprecation.py:87: FutureWarning: Function plot_confusion_matrix is deprecated; Function `plot_confusion_matrix` is deprecated in 1.0 and will be removed in 1.2. Use one of the class methods: ConfusionMatrixDisplay.from_predictions or ConfusionMatrixDisplay.from_estimator.\n",
      "  warnings.warn(msg, category=FutureWarning)\n"
     ]
    },
    {
     "data": {
      "text/plain": [
       "<sklearn.metrics._plot.confusion_matrix.ConfusionMatrixDisplay at 0x7fbbe91d3a60>"
      ]
     },
     "execution_count": 116,
     "metadata": {},
     "output_type": "execute_result"
    },
    {
     "data": {
      "image/png": "[encoded data removed]",
      "text/plain": [
       "<Figure size 432x288 with 2 Axes>"
      ]
     },
     "metadata": {
      "needs_background": "light"
     },
     "output_type": "display_data"
    }
   ],
   "source": [
    "from sklearn.metrics import plot_confusion_matrix\n",
    "plot_confusion_matrix(log_incr, X_test, y_test)"
   ]
  },
  {
   "cell_type": "code",
   "execution_count": 78,
   "id": "7e7a4d9b",
   "metadata": {},
   "outputs": [
    {
     "data": {
      "image/png": "[encoded data removed]",
      "text/plain": [
       "<Figure size 432x288 with 1 Axes>"
      ]
     },
     "metadata": {
      "needs_background": "light"
     },
     "output_type": "display_data"
    }
   ],
   "source": [
    "fpr, tpr, _ = metrics.roc_curve(y_test,  predictions_incr)\n",
    "\n",
    "#create ROC curve\n",
    "plt.plot(fpr,tpr)\n",
    "plt.ylabel('True Positive Rate')\n",
    "plt.xlabel('False Positive Rate')\n",
    "plt.title(\"ROC for logistic regression\", fontsize=20)\n",
    "plt.show()"
   ]
  },
  {
   "cell_type": "markdown",
   "id": "970e0761",
   "metadata": {},
   "source": [
    "# SVM"
   ]
  },
  {
   "cell_type": "code",
   "execution_count": 89,
   "id": "9a16c389",
   "metadata": {},
   "outputs": [
    {
     "name": "stdout",
     "output_type": "stream",
     "text": [
      "SVM with Cross-Validation\n"
     ]
    }
   ],
   "source": [
    "from sklearn.svm import SVC\n",
    "print(\"SVM with Cross-Validation\")\n",
    "svm = SVC()\n",
    "#para = {\"kernel\":(\"linear\", \"poly\", \"rbf\")}\n",
    "#para = {\"kernel\":(\"linear\")}\n",
    "#svm_DS = GridSearchCV(svm, para, cv = 3, verbose=1)\n",
    "\n",
    "#sample_Xtrain = X_train.sample(frac=0.001)\n",
    "#sample_ytrain = pd.DataFrame(y_train).sample(frac=0.001)\n",
    "\n",
    "\n",
    "\n",
    "svm.fit(sX_train, sy_train.values.ravel())\n",
    "\n",
    "pred_svm = svm.predict(sX_test)\n",
    "#svm_DS.best_estimator_"
   ]
  },
  {
   "cell_type": "code",
   "execution_count": 90,
   "id": "4b6e3738",
   "metadata": {},
   "outputs": [
    {
     "name": "stdout",
     "output_type": "stream",
     "text": [
      "1. Accuracy: 0.7366465397120298\n",
      "2. Precision: 0.5976027397260274\n",
      "3. Recall: 0.09926052332195677\n",
      "4. F1 Score: 0.17024390243902437\n"
     ]
    }
   ],
   "source": [
    "from sklearn import metrics\n",
    "print('1. Accuracy:', metrics.accuracy_score(sy_test, pred_svm ))\n",
    "print('2. Precision:', metrics.precision_score(sy_test, pred_svm ))\n",
    "print('3. Recall:', metrics.recall_score(sy_test, pred_svm))\n",
    "print('4. F1 Score:', metrics.f1_score(sy_test, pred_svm ))"
   ]
  },
  {
   "cell_type": "code",
   "execution_count": 93,
   "id": "6d397541",
   "metadata": {},
   "outputs": [
    {
     "name": "stderr",
     "output_type": "stream",
     "text": [
      "/Users/yun/opt/anaconda3/lib/python3.9/site-packages/sklearn/utils/deprecation.py:87: FutureWarning: Function plot_confusion_matrix is deprecated; Function `plot_confusion_matrix` is deprecated in 1.0 and will be removed in 1.2. Use one of the class methods: ConfusionMatrixDisplay.from_predictions or ConfusionMatrixDisplay.from_estimator.\n",
      "  warnings.warn(msg, category=FutureWarning)\n"
     ]
    },
    {
     "data": {
      "text/plain": [
       "<sklearn.metrics._plot.confusion_matrix.ConfusionMatrixDisplay at 0x7fbbe8fe4790>"
      ]
     },
     "execution_count": 93,
     "metadata": {},
     "output_type": "execute_result"
    },
    {
     "data": {
      "image/png": "[encoded data removed]",
      "text/plain": [
       "<Figure size 432x288 with 2 Axes>"
      ]
     },
     "metadata": {
      "needs_background": "light"
     },
     "output_type": "display_data"
    }
   ],
   "source": [
    "plot_confusion_matrix(svm, sX_test, sy_test)"
   ]
  },
  {
   "cell_type": "code",
   "execution_count": 91,
   "id": "7960cc18",
   "metadata": {},
   "outputs": [
    {
     "data": {
      "image/png": "[encoded data removed]",
      "text/plain": [
       "<Figure size 432x288 with 1 Axes>"
      ]
     },
     "metadata": {
      "needs_background": "light"
     },
     "output_type": "display_data"
    }
   ],
   "source": [
    "fpr, tpr, _ = metrics.roc_curve(sy_test,  pred_svm )\n",
    "\n",
    "#create ROC curve\n",
    "plt.plot(fpr,tpr)\n",
    "plt.ylabel('True Positive Rate')\n",
    "plt.xlabel('False Positive Rate')\n",
    "plt.title(\"ROC for SVM\", fontsize=20)\n",
    "plt.show()"
   ]
  },
  {
   "cell_type": "markdown",
   "id": "7e1fb291",
   "metadata": {},
   "source": [
    "# KNN"
   ]
  },
  {
   "cell_type": "code",
   "execution_count": 94,
   "id": "fec39cb3",
   "metadata": {},
   "outputs": [
    {
     "name": "stdout",
     "output_type": "stream",
     "text": [
      "Fitting 3 folds for each of 3 candidates, totalling 9 fits\n"
     ]
    },
    {
     "data": {
      "text/plain": [
       "KNeighborsClassifier(n_neighbors=7)"
      ]
     },
     "execution_count": 94,
     "metadata": {},
     "output_type": "execute_result"
    }
   ],
   "source": [
    "from sklearn.neighbors import KNeighborsClassifier\n",
    "from sklearn.model_selection import GridSearchCV\n",
    "neigh=KNeighborsClassifier()\n",
    "para = {\"n_neighbors\":([3,5,7])}\n",
    "#para = {\"kernel\":(\"linear\")}\n",
    "knn = GridSearchCV(neigh,para, cv = 3, verbose=1)\n",
    "knn.fit(sX_train, sy_train)\n",
    "\n",
    "pred_knn = knn.predict(sX_test)\n",
    "knn.best_estimator_"
   ]
  },
  {
   "cell_type": "code",
   "execution_count": 95,
   "id": "7f57ac9a",
   "metadata": {},
   "outputs": [
    {
     "name": "stdout",
     "output_type": "stream",
     "text": [
      "1. Accuracy: 0.7310729215048769\n",
      "2. Precision: 0.5092348284960422\n",
      "3. Recall: 0.3293515358361775\n",
      "4. F1 Score: 0.4\n"
     ]
    }
   ],
   "source": [
    "print('1. Accuracy:', metrics.accuracy_score(sy_test, pred_knn ))\n",
    "print('2. Precision:', metrics.precision_score(sy_test, pred_knn ))\n",
    "print('3. Recall:', metrics.recall_score(sy_test, pred_knn))\n",
    "print('4. F1 Score:', metrics.f1_score(sy_test, pred_knn ))"
   ]
  },
  {
   "cell_type": "code",
   "execution_count": 96,
   "id": "3af7e75d",
   "metadata": {},
   "outputs": [
    {
     "name": "stderr",
     "output_type": "stream",
     "text": [
      "/Users/yun/opt/anaconda3/lib/python3.9/site-packages/sklearn/utils/deprecation.py:87: FutureWarning: Function plot_confusion_matrix is deprecated; Function `plot_confusion_matrix` is deprecated in 1.0 and will be removed in 1.2. Use one of the class methods: ConfusionMatrixDisplay.from_predictions or ConfusionMatrixDisplay.from_estimator.\n",
      "  warnings.warn(msg, category=FutureWarning)\n"
     ]
    },
    {
     "data": {
      "text/plain": [
       "<sklearn.metrics._plot.confusion_matrix.ConfusionMatrixDisplay at 0x7fb9d6fefe80>"
      ]
     },
     "execution_count": 96,
     "metadata": {},
     "output_type": "execute_result"
    },
    {
     "data": {
      "image/png": "[encoded data removed]",
      "text/plain": [
       "<Figure size 432x288 with 2 Axes>"
      ]
     },
     "metadata": {
      "needs_background": "light"
     },
     "output_type": "display_data"
    }
   ],
   "source": [
    "#from sklearn.metrics import plot_confusion_matrix\n",
    "plot_confusion_matrix(knn, sX_test, sy_test)"
   ]
  },
  {
   "cell_type": "code",
   "execution_count": 97,
   "id": "dad14869",
   "metadata": {},
   "outputs": [
    {
     "data": {
      "image/png": "[encoded data removed]",
      "text/plain": [
       "<Figure size 432x288 with 1 Axes>"
      ]
     },
     "metadata": {
      "needs_background": "light"
     },
     "output_type": "display_data"
    }
   ],
   "source": [
    "fpr, tpr, _ = metrics.roc_curve(sy_test,  pred_knn )\n",
    "\n",
    "#create ROC curve\n",
    "plt.plot(fpr,tpr)\n",
    "plt.ylabel('True Positive Rate')\n",
    "plt.xlabel('False Positive Rate')\n",
    "plt.title(\"ROC for logistic KNN\", fontsize=20)\n",
    "plt.show()"
   ]
  },
  {
   "cell_type": "code",
   "execution_count": null,
   "id": "c089c327",
   "metadata": {},
   "outputs": [],
   "source": []
  },
  {
   "cell_type": "markdown",
   "id": "9e526ecb",
   "metadata": {},
   "source": [
    "# Gradient Boosting Classifier"
   ]
  },
  {
   "cell_type": "code",
   "execution_count": 26,
   "id": "391504fb",
   "metadata": {},
   "outputs": [],
   "source": [
    "from sklearn.datasets import make_hastie_10_2\n",
    "from sklearn.ensemble import GradientBoostingClassifier"
   ]
  },
  {
   "cell_type": "code",
   "execution_count": 117,
   "id": "002c3c65",
   "metadata": {},
   "outputs": [],
   "source": [
    "gdbt = GradientBoostingClassifier(n_estimators=100, learning_rate=1.0,max_depth=1, random_state=0).fit(X_train, y_train)\n",
    "\n",
    "gdbt.fit(X_train, y_train)\n",
    "\n",
    "predictions_gdbt = gdbt.predict(X_test)"
   ]
  },
  {
   "cell_type": "code",
   "execution_count": 118,
   "id": "75875db4",
   "metadata": {},
   "outputs": [
    {
     "name": "stdout",
     "output_type": "stream",
     "text": [
      "1. Accuracy: 0.8965657381972748\n",
      "2. Precision: 0.9314148858076713\n",
      "3. Recall: 0.6611849095932204\n",
      "4. F1 Score: 0.7733737864904162\n"
     ]
    }
   ],
   "source": [
    "print('1. Accuracy:', metrics.accuracy_score(y_test, predictions_gdbt ))\n",
    "print('2. Precision:', metrics.precision_score(y_test, predictions_gdbt ))\n",
    "print('3. Recall:', metrics.recall_score(y_test, predictions_gdbt))\n",
    "print('4. F1 Score:', metrics.f1_score(y_test, predictions_gdbt ))"
   ]
  },
  {
   "cell_type": "code",
   "execution_count": 85,
   "id": "369f0b16",
   "metadata": {},
   "outputs": [
    {
     "name": "stderr",
     "output_type": "stream",
     "text": [
      "/Users/yun/opt/anaconda3/lib/python3.9/site-packages/sklearn/utils/deprecation.py:87: FutureWarning: Function plot_confusion_matrix is deprecated; Function `plot_confusion_matrix` is deprecated in 1.0 and will be removed in 1.2. Use one of the class methods: ConfusionMatrixDisplay.from_predictions or ConfusionMatrixDisplay.from_estimator.\n",
      "  warnings.warn(msg, category=FutureWarning)\n"
     ]
    },
    {
     "data": {
      "text/plain": [
       "<sklearn.metrics._plot.confusion_matrix.ConfusionMatrixDisplay at 0x7fbbe8fba0d0>"
      ]
     },
     "execution_count": 85,
     "metadata": {},
     "output_type": "execute_result"
    },
    {
     "data": {
      "image/png": "[encoded data removed]",
      "text/plain": [
       "<Figure size 432x288 with 2 Axes>"
      ]
     },
     "metadata": {
      "needs_background": "light"
     },
     "output_type": "display_data"
    }
   ],
   "source": [
    "from sklearn.metrics import plot_confusion_matrix\n",
    "plot_confusion_matrix(gdbt, X_test, y_test)"
   ]
  },
  {
   "cell_type": "code",
   "execution_count": 86,
   "id": "1839af2d",
   "metadata": {},
   "outputs": [
    {
     "data": {
      "image/png": "[encoded data removed]",
      "text/plain": [
       "<Figure size 432x288 with 1 Axes>"
      ]
     },
     "metadata": {
      "needs_background": "light"
     },
     "output_type": "display_data"
    }
   ],
   "source": [
    "fpr, tpr, _ = metrics.roc_curve(y_test,  predictions_gdbt )\n",
    "\n",
    "#create ROC curve\n",
    "plt.plot(fpr,tpr)\n",
    "plt.ylabel('True Positive Rate')\n",
    "plt.xlabel('False Positive Rate')\n",
    "plt.title(\"ROC for Gradient Boosting Classifier\", fontsize=20)\n",
    "plt.show()"
   ]
  },
  {
   "cell_type": "code",
   "execution_count": 126,
   "id": "6823937f",
   "metadata": {},
   "outputs": [
    {
     "data": {
      "text/plain": [
       "Text(0, 0.5, 'Mean decrease in impurity')"
      ]
     },
     "execution_count": 126,
     "metadata": {},
     "output_type": "execute_result"
    },
    {
     "data": {
      "image/png": "[encoded data removed]",
      "text/plain": [
       "<Figure size 864x576 with 1 Axes>"
      ]
     },
     "metadata": {
      "needs_background": "light"
     },
     "output_type": "display_data"
    }
   ],
   "source": [
    "plt.figure(figsize=(12,8))\n",
    "sorted_idx = gdbt.feature_importances_.argsort()[::-1]\n",
    "plt.bar(X_train.columns[sorted_idx], gdbt.feature_importances_[sorted_idx])\n",
    "plt.xticks(rotation=90)\n",
    "plt.title(\"Gradient Boosting Feature importances using MDI\", fontsize=20)\n",
    "plt.ylabel(\"Mean decrease in impurity\", fontsize=14)\n"
   ]
  },
  {
   "cell_type": "code",
   "execution_count": null,
   "id": "4aba6c6b",
   "metadata": {},
   "outputs": [],
   "source": []
  },
  {
   "cell_type": "code",
   "execution_count": null,
   "id": "79205150",
   "metadata": {},
   "outputs": [],
   "source": []
  },
  {
   "cell_type": "code",
   "execution_count": null,
   "id": "2550f5e5",
   "metadata": {},
   "outputs": [],
   "source": []
  },
  {
   "cell_type": "code",
   "execution_count": 127,
   "id": "539be924",
   "metadata": {},
   "outputs": [],
   "source": [
    "from sklearn.neural_network import MLPClassifier"
   ]
  },
  {
   "cell_type": "code",
   "execution_count": 168,
   "id": "bbbd11c0",
   "metadata": {},
   "outputs": [
    {
     "name": "stderr",
     "output_type": "stream",
     "text": [
      "/Users/yun/opt/anaconda3/lib/python3.9/site-packages/sklearn/neural_network/_multilayer_perceptron.py:549: ConvergenceWarning: lbfgs failed to converge (status=1):\n",
      "STOP: TOTAL NO. of ITERATIONS REACHED LIMIT.\n",
      "\n",
      "Increase the number of iterations (max_iter) or scale the data as shown in:\n",
      "    https://scikit-learn.org/stable/modules/preprocessing.html\n",
      "  self.n_iter_ = _check_optimize_result(\"lbfgs\", opt_res, self.max_iter)\n"
     ]
    }
   ],
   "source": [
    "clf = MLPClassifier(solver='lbfgs', alpha=1e-5,hidden_layer_sizes=(16, 16), random_state=1)\n",
    "clf.fit(X_train, y_train)\n",
    "predictions_NN = clf.predict(X_test)"
   ]
  },
  {
   "cell_type": "code",
   "execution_count": 169,
   "id": "1c8e849b",
   "metadata": {},
   "outputs": [
    {
     "name": "stdout",
     "output_type": "stream",
     "text": [
      "1. Accuracy: 0.7331268916802978\n",
      "2. Precision: 0.5862944162436549\n",
      "3. Recall: 0.0006724832097536266\n",
      "4. F1 Score: 0.0013434255024033356\n"
     ]
    }
   ],
   "source": [
    "print('1. Accuracy:', metrics.accuracy_score(y_test, predictions_NN ))\n",
    "print('2. Precision:', metrics.precision_score(y_test, predictions_NN ))\n",
    "print('3. Recall:', metrics.recall_score(y_test, predictions_NN))\n",
    "print('4. F1 Score:', metrics.f1_score(y_test, predictions_NN ))"
   ]
  },
  {
   "cell_type": "code",
   "execution_count": 170,
   "id": "433b3855",
   "metadata": {},
   "outputs": [
    {
     "name": "stderr",
     "output_type": "stream",
     "text": [
      "/Users/yun/opt/anaconda3/lib/python3.9/site-packages/sklearn/utils/deprecation.py:87: FutureWarning: Function plot_confusion_matrix is deprecated; Function `plot_confusion_matrix` is deprecated in 1.0 and will be removed in 1.2. Use one of the class methods: ConfusionMatrixDisplay.from_predictions or ConfusionMatrixDisplay.from_estimator.\n",
      "  warnings.warn(msg, category=FutureWarning)\n"
     ]
    },
    {
     "data": {
      "text/plain": [
       "<sklearn.metrics._plot.confusion_matrix.ConfusionMatrixDisplay at 0x7fb794edcd00>"
      ]
     },
     "execution_count": 170,
     "metadata": {},
     "output_type": "execute_result"
    },
    {
     "data": {
      "image/png": "[encoded data removed]",
      "text/plain": [
       "<Figure size 432x288 with 2 Axes>"
      ]
     },
     "metadata": {
      "needs_background": "light"
     },
     "output_type": "display_data"
    }
   ],
   "source": [
    "plot_confusion_matrix(clf, X_test, y_test)"
   ]
  },
  {
   "cell_type": "code",
   "execution_count": 171,
   "id": "1068a7f9",
   "metadata": {},
   "outputs": [
    {
     "data": {
      "image/png": "[encoded data removed]",
      "text/plain": [
       "<Figure size 432x288 with 1 Axes>"
      ]
     },
     "metadata": {
      "needs_background": "light"
     },
     "output_type": "display_data"
    }
   ],
   "source": [
    "fpr, tpr, _ = metrics.roc_curve(y_test,  predictions_NN )\n",
    "\n",
    "#create ROC curve\n",
    "plt.plot(fpr,tpr)\n",
    "plt.ylabel('True Positive Rate')\n",
    "plt.xlabel('False Positive Rate')\n",
    "plt.title(\"ROC for Gradient Boosting Classifier\", fontsize=20)\n",
    "plt.show()"
   ]
  }
 ],
 "metadata": {
  "kernelspec": {
   "display_name": "Python 3 (ipykernel)",
   "language": "python",
   "name": "python3"
  },
  "language_info": {
   "codemirror_mode": {
    "name": "ipython",
    "version": 3
   },
   "file_extension": ".py",
   "mimetype": "text/x-python",
   "name": "python",
   "nbconvert_exporter": "python",
   "pygments_lexer": "ipython3",
   "version": "3.9.12"
  }
 },
 "nbformat": 4,
 "nbformat_minor": 5
}
